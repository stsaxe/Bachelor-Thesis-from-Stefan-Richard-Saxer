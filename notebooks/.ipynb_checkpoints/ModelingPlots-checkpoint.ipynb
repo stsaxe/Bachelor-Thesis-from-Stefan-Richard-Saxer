{
 "cells": [
  {
   "cell_type": "code",
   "execution_count": 1,
   "id": "initial_id",
   "metadata": {
    "collapsed": true,
    "ExecuteTime": {
     "end_time": "2024-05-07T20:10:40.360244100Z",
     "start_time": "2024-05-07T20:10:39.236672600Z"
    }
   },
   "outputs": [],
   "source": [
    "import sys\n",
    "sys.path.insert(0, '..')\n",
    "\n",
    "import pandas as pd\n",
    "import os\n",
    "from src import Task, TaskGroup, Flag, AbstractTask, AbstractFlag, Pipeline, BaseFlag, plotMatrix, plotReport\n",
    "from src import executors as ex\n",
    "\n",
    "from src.plotting.plot_factory import PlotPipelineFactory\n",
    "\n",
    "import warnings\n",
    "warnings.filterwarnings(\"ignore\")\n"
   ]
  },
  {
   "cell_type": "code",
   "outputs": [],
   "source": [
    "dataPath  = r\"..\\data\\csv\" + \"\\\\\"\n",
    "plotPath = r\"..\\plots\\modeling_plots\" + \"\\\\\"\n",
    "picklePath = r\"..\\pickle_objects\\modeling_pipeline\" + \"\\\\\""
   ],
   "metadata": {
    "collapsed": false,
    "ExecuteTime": {
     "end_time": "2024-05-07T20:10:40.385458900Z",
     "start_time": "2024-05-07T20:10:40.360244100Z"
    }
   },
   "id": "9e6b85a0abbeb883",
   "execution_count": 2
  },
  {
   "cell_type": "code",
   "outputs": [
    {
     "name": "stdout",
     "output_type": "stream",
     "text": [
      "Modeling Pipeline\n",
      "\t10 Pre Processing: Pre Processing\n",
      "\t\t10 Select and order columns\n",
      "\t\t20 Company ID and UUID\n",
      "\t\t\t10 Fill Company ID with None\n",
      "\t\t\t20 Fill UUID with None\n",
      "\t\t\t30 Replace Company IDs\n",
      "\t\t\t40 Replace Company UUIDs\n",
      "\t\t30 MS Data Processing\n",
      "\t\t\t10 Fill MS Data with empty String\n",
      "\t\t\t20 Length of MS Data\n",
      "\t\t\t30 Continuity Type\n",
      "\t\t\t40 Drop MS Data Column\n",
      "\t\t40 Service Data Processing\n",
      "\t\t\t10 Fill Service Data with empty String\n",
      "\t\t\t20 Length of Service Data\n",
      "\t\t\t30 Samsung Type\n",
      "\t\t\t40 Drop Service Data Column\n",
      "\t\t50 Fill Numeric NA with 0\n",
      "\t\t60 Fill String NA with None\n",
      "\t\t70 Datetime conversion\n",
      "\t\t80 Clean PDU\n",
      "\t\t90 Order DataFrame\n",
      "\t\t100 Convert object type to string\n",
      "\t20 Dummy Processing: Dummy Processing\n",
      "\t\t10 Dummies Channel\n",
      "\t\t20 Dummies AD Type\n",
      "\t\t30 Dummies Company\n",
      "\t\t40 Dummies UUID\n",
      "\t\t50 Dummies PDU Type\n",
      "\t\t60 Dummies Continuity Type\n",
      "\t\t70 Dummies SmartTag Type\n",
      "\t30 Labeling: Labeling\n",
      "\t\t10 Labeling auto: Labeling auto\n",
      "\t\t\tLabel FindMy Tracker and iDevice: Label FindMy Tracker and iDevice\n",
      "\t\t\tLabel Tile and iDevice: Label Tile and iDevice\n",
      "\t\t\tLabel AirPod and iDevice: Label AirPod and iDevice\n",
      "\t\t\tLabel other Device and SmartTag: Label SmartTag and Other\n",
      "\t\t20 Labeling manual: Labeling manual\n",
      "\t\t\tLabel FindMy Tracker: Label FindMy Tracker\n",
      "\t\t\tLabel iDevice: Label iDevice\n",
      "\t\t\tLabel SmartTag: Label SmartTag\n",
      "\t\t\tLabel Tile: Label Tile\n",
      "\t\t\tLabel other Device: Label other Device\n",
      "\t\t\tLabel AirPod: Label AirPod\n",
      "\t\t\tLabel -1: Label Unknown\n",
      "\t40 States: States\n",
      "\t\t10 State Column\n",
      "\t\t20 States iDevices: States iDevices\n",
      "\t\t\tContinuity\n",
      "\t\t30 States Trackers: States Tracker\n",
      "\t\t\tlost: State lost\n",
      "\t\t\tnearby: State nearby\n",
      "\t\t\tunpaired: State unpaired\n",
      "\t\tCollapse State Column\n",
      "\t50 Drop Labels: Drop Labels\n",
      "\t\tDrop iDevice: Drop iDevice\n",
      "\t\tDrop other Device: Drop other Device\n",
      "\t\tDrop iDevice FindMy: Drop iDevice FindMy\n",
      "\t60 Modeling: Modeling\n",
      "\t\t0 Drop Column Continuity\n",
      "\t\t10 Rate Modeling: Rate Modeling\n",
      "\t\t20 Drop Columns: Drop Columns\n"
     ]
    }
   ],
   "source": [
    "import pickle\n",
    "with open(picklePath + 'Modeling Pipeline.pickle', 'rb') as f:\n",
    "    ModelingPipeline = pickle.load(f)\n",
    "\n",
    "ModelingPipeline.print(priority = True, flags = True)"
   ],
   "metadata": {
    "collapsed": false,
    "ExecuteTime": {
     "end_time": "2024-05-07T20:10:40.425278Z",
     "start_time": "2024-05-07T20:10:40.364439400Z"
    }
   },
   "id": "9b56f70b9528408c",
   "execution_count": 3
  },
  {
   "cell_type": "code",
   "outputs": [
    {
     "name": "stdout",
     "output_type": "stream",
     "text": [
      "10 Pre Processing: Pre Processing\n",
      "\t10 Select and order columns\n",
      "\t20 Company ID and UUID\n",
      "\t\t10 Fill Company ID with None\n",
      "\t\t20 Fill UUID with None\n",
      "\t\t30 Replace Company IDs\n",
      "\t\t40 Replace Company UUIDs\n",
      "\t30 MS Data Processing\n",
      "\t\t10 Fill MS Data with empty String\n",
      "\t\t20 Length of MS Data\n",
      "\t\t30 Continuity Type\n",
      "\t\t40 Drop MS Data Column\n",
      "\t40 Service Data Processing\n",
      "\t\t10 Fill Service Data with empty String\n",
      "\t\t20 Length of Service Data\n",
      "\t\t30 Samsung Type\n",
      "\t\t40 Drop Service Data Column\n",
      "\t50 Fill Numeric NA with 0\n",
      "\t60 Fill String NA with None\n",
      "\t70 Datetime conversion\n",
      "\t80 Clean PDU\n",
      "\t90 Order DataFrame\n",
      "\t100 Convert object type to string\n"
     ]
    }
   ],
   "source": [
    "ModelingPipeline_part_1 = ModelingPipeline[0].copy()\n",
    "ModelingPipeline_part_1.print(priority = True, flags = True)"
   ],
   "metadata": {
    "collapsed": false,
    "ExecuteTime": {
     "end_time": "2024-05-07T20:10:40.465562800Z",
     "start_time": "2024-05-07T20:10:40.424278100Z"
    }
   },
   "id": "be1f23aae022582a",
   "execution_count": 4
  },
  {
   "cell_type": "code",
   "outputs": [
    {
     "name": "stdout",
     "output_type": "stream",
     "text": [
      "50 Drop Labels: Drop Labels\n",
      "\tDrop iDevice: Drop iDevice\n",
      "\tDrop other Device: Drop other Device\n",
      "\tDrop iDevice FindMy: Drop iDevice FindMy\n"
     ]
    }
   ],
   "source": [
    "DropLabelPipeline = ModelingPipeline[-2].copy()\n",
    "del ModelingPipeline[-2]\n",
    "DropLabelPipeline.print(priority = True, flags = True)"
   ],
   "metadata": {
    "collapsed": false,
    "ExecuteTime": {
     "end_time": "2024-05-07T20:10:40.466561900Z",
     "start_time": "2024-05-07T20:10:40.428805900Z"
    }
   },
   "id": "8793e793593f73b0",
   "execution_count": 5
  },
  {
   "cell_type": "code",
   "outputs": [
    {
     "name": "stdout",
     "output_type": "stream",
     "text": [
      "Modeling Pipeline\n",
      "\t20 Dummy Processing: Dummy Processing\n",
      "\t\t10 Dummies Channel\n",
      "\t\t20 Dummies AD Type\n",
      "\t\t30 Dummies Company\n",
      "\t\t40 Dummies UUID\n",
      "\t\t50 Dummies PDU Type\n",
      "\t\t60 Dummies Continuity Type\n",
      "\t\t70 Dummies SmartTag Type\n",
      "\t30 Labeling: Labeling\n",
      "\t\t10 Labeling auto: Labeling auto\n",
      "\t\t\tLabel FindMy Tracker and iDevice: Label FindMy Tracker and iDevice\n",
      "\t\t\tLabel Tile and iDevice: Label Tile and iDevice\n",
      "\t\t\tLabel AirPod and iDevice: Label AirPod and iDevice\n",
      "\t\t\tLabel other Device and SmartTag: Label SmartTag and Other\n",
      "\t\t20 Labeling manual: Labeling manual\n",
      "\t\t\tLabel FindMy Tracker: Label FindMy Tracker\n",
      "\t\t\tLabel iDevice: Label iDevice\n",
      "\t\t\tLabel SmartTag: Label SmartTag\n",
      "\t\t\tLabel Tile: Label Tile\n",
      "\t\t\tLabel other Device: Label other Device\n",
      "\t\t\tLabel AirPod: Label AirPod\n",
      "\t\t\tLabel -1: Label Unknown\n",
      "\t40 States: States\n",
      "\t\t10 State Column\n",
      "\t\t20 States iDevices: States iDevices\n",
      "\t\t\tContinuity\n",
      "\t\t30 States Trackers: States Tracker\n",
      "\t\t\tlost: State lost\n",
      "\t\t\tnearby: State nearby\n",
      "\t\t\tunpaired: State unpaired\n",
      "\t\tCollapse State Column\n"
     ]
    }
   ],
   "source": [
    "ModelingPipeline_part_2 =  ModelingPipeline.copy()\n",
    "del ModelingPipeline_part_2[0]\n",
    "del ModelingPipeline_part_2[-1]\n",
    "ModelingPipeline_part_2.print(priority = True, flags = True)"
   ],
   "metadata": {
    "collapsed": false,
    "ExecuteTime": {
     "end_time": "2024-05-07T20:10:40.466561900Z",
     "start_time": "2024-05-07T20:10:40.433076200Z"
    }
   },
   "id": "bf411453888a6810",
   "execution_count": 6
  },
  {
   "cell_type": "code",
   "outputs": [],
   "source": [
    "with open(picklePath +'Pre Processing.pickle', 'rb') as f:\n",
    "    flag_preProcessing = pickle.load(f)\n",
    "\n",
    "with open(picklePath +  'Modeling.pickle', 'rb') as f:\n",
    "    flag_modeling = pickle.load(f)\n",
    "\n",
    "with open(picklePath + 'Dummy Processing.pickle', 'rb') as f:\n",
    "    flag_dummy= pickle.load(f)\n",
    "\n",
    "with open(picklePath + 'Drop Columns.pickle', 'rb') as f:\n",
    "    flag_dropColumns= pickle.load(f)\n",
    "\n",
    "with open(picklePath + 'Label FindMy Tracker and iDevice.pickle', 'rb') as f:\n",
    "    flag_label_FindMy_Tracker_and_iDevice = pickle.load(f)\n",
    "\n",
    "with open(picklePath + 'Label FindMy Tracker.pickle', 'rb') as f:\n",
    "    flag_label_FindMy_Tracker = pickle.load(f)\n",
    "\n",
    "with open(picklePath + 'Label Tile and iDevice.pickle', 'rb') as f:\n",
    "    flag_label_Tile_and_iDevice = pickle.load(f)\n",
    "\n",
    "with open(picklePath + 'Label Tile.pickle', 'rb') as f:\n",
    "    flag_label_Tile = pickle.load(f)\n",
    "\n",
    "with open(picklePath + 'Label SmartTag and Other.pickle', 'rb') as f:\n",
    "    flag_label_SmartTag_and_Other = pickle.load(f)\n",
    "\n",
    "with open(picklePath + 'Label SmartTag.pickle', 'rb') as f:\n",
    "    flag_label_SmartTag = pickle.load(f)\n",
    "\n",
    "with open(picklePath + 'Label iDevice.pickle', 'rb') as f:\n",
    "    flag_label_iDevice= pickle.load(f)\n",
    "\n",
    "with open(picklePath + 'State lost.pickle', 'rb') as f:\n",
    "    flag_state_lost = pickle.load(f)\n",
    "\n",
    "with open(picklePath + 'State unpaired.pickle', 'rb') as f:\n",
    "    flag_state_unpaired = pickle.load(f)\n",
    "\n",
    "with open(picklePath + 'State nearby.pickle', 'rb') as f:\n",
    "    flag_state_nearby = pickle.load(f)\n",
    "\n",
    "with open(picklePath + 'States iDevices.pickle', 'rb') as f:\n",
    "    flag_states_iDevices = pickle.load(f)\n",
    "\n",
    "with open(picklePath + 'Drop iDevice.pickle', 'rb') as f:\n",
    "    flag_drop_label_iDevice = pickle.load(f)\n",
    "\n",
    "with open(picklePath + 'Drop other Device.pickle', 'rb') as f:\n",
    "    flag_drop_label_Other = pickle.load(f)\n",
    "\n",
    "with open(picklePath + 'Drop iDevice FindMy.pickle', 'rb') as f:\n",
    "    flag_drop_label_iDevice_FindMy = pickle.load(f)\n"
   ],
   "metadata": {
    "collapsed": false,
    "ExecuteTime": {
     "end_time": "2024-05-07T20:10:40.468562600Z",
     "start_time": "2024-05-07T20:10:40.436261800Z"
    }
   },
   "id": "904e56c85a8fc51e",
   "execution_count": 7
  },
  {
   "cell_type": "code",
   "outputs": [],
   "source": [
    "def getPlotPipeline(titleSuffix: str, labelColumn: str = 'Label', show: bool = False, savePath: str = plotPath, analysis:bool=False):\n",
    "    return PlotPipelineFactory(titleSuffix=titleSuffix, labelColumn=labelColumn, show=show, savePath=savePath, analysis=analysis)"
   ],
   "metadata": {
    "collapsed": false,
    "ExecuteTime": {
     "end_time": "2024-05-07T20:10:40.511839400Z",
     "start_time": "2024-05-07T20:10:40.446935900Z"
    }
   },
   "id": "7e1aff879bf88a0d",
   "execution_count": 8
  },
  {
   "cell_type": "code",
   "outputs": [],
   "source": [
    "def filesToDataFrame(filesDict: dict[str:AbstractFlag], filePath: str = dataPath, labelColumn: str = 'Label') -> pd.DataFrame:\n",
    "    dataset = pd.DataFrame()\n",
    "\n",
    "    for f in filesDict:\n",
    "        myPipeline = Pipeline().setPath(filePath + f).loadData()\n",
    "\n",
    "        new_dataset = myPipeline.setTask(ModelingPipeline_part_1).run()\n",
    "        new_dataset_labeled = ModelingPipeline_part_2.process(new_dataset, flag=filesDict[f])\n",
    "\n",
    "        new_dataset[labelColumn] = new_dataset_labeled[labelColumn]\n",
    "        new_dataset = DropLabelPipeline.process(new_dataset, flag=filesDict[f])\n",
    "        \n",
    "        new_dataset['File'] = f.split(\"\\\\\")[-1][:-4]\n",
    "        dataset = pd.concat([dataset, new_dataset])\n",
    "\n",
    "    dataset.reset_index(drop = True, inplace = True)\n",
    "\n",
    "    return dataset"
   ],
   "metadata": {
    "collapsed": false,
    "ExecuteTime": {
     "end_time": "2024-05-07T20:10:40.512904200Z",
     "start_time": "2024-05-07T20:10:40.451511700Z"
    }
   },
   "id": "2f4cc14654387458",
   "execution_count": 9
  },
  {
   "cell_type": "code",
   "outputs": [],
   "source": [
    "BaseModeling_Flag = Flag('BaseModeling', parents = [flag_preProcessing, flag_dummy, flag_dropColumns])\n",
    "iDevice_Flag = Flag('iDevice', parents = [BaseModeling_Flag, flag_label_iDevice, flag_states_iDevices])\n",
    "\n",
    "files = {r\"AirTag\\AirTag_(nearby).csv\": Flag(\"nearby\", parents = [ BaseModeling_Flag, flag_label_FindMy_Tracker_and_iDevice, flag_state_nearby, \n",
    "                                                                   flag_drop_label_iDevice]),\n",
    "         r\"AirTag\\AirTag_(lost).csv\": Flag(\"lost\", parents = [BaseModeling_Flag, flag_label_FindMy_Tracker, flag_state_lost]),\n",
    "         r\"AirTag\\AirTag_(unpaired).csv\": Flag(\"unpaired\", parents = [flag_preProcessing, flag_dummy, flag_label_FindMy_Tracker, flag_state_unpaired]),\n",
    "\n",
    "         r\"AirPod\\AirPod_(lost).csv\": Flag(\"lost\", parents = [BaseModeling_Flag, flag_label_iDevice, flag_states_iDevices, flag_drop_label_iDevice_FindMy]),\n",
    "           \n",
    "         r\"Chipolo\\Chipolo_(nearby).csv\": Flag(\"nearby\", parents = [BaseModeling_Flag, flag_label_FindMy_Tracker_and_iDevice, flag_state_nearby, \n",
    "                                                                    flag_drop_label_iDevice]),\n",
    "         r\"Chipolo\\Chipolo_(lost).csv\": Flag(\"lost\", parents = [BaseModeling_Flag, flag_label_FindMy_Tracker, flag_state_lost]),\n",
    "\n",
    "         r\"SkyTag\\SkyTag_(nearby).csv\": Flag(\"nearby\", parents = [BaseModeling_Flag, flag_label_FindMy_Tracker_and_iDevice, flag_state_nearby, \n",
    "                                                                  flag_drop_label_iDevice]),\n",
    "         r\"SkyTag\\SkyTag_(lost).csv\": Flag(\"lost\", parents = [BaseModeling_Flag, flag_label_FindMy_Tracker, flag_state_lost]),\n",
    "\n",
    "         r\"Tile\\Tile_(nearby).csv\": Flag(\"lost nearby\", parents = [BaseModeling_Flag, flag_label_Tile_and_iDevice, flag_state_lost, flag_drop_label_iDevice]),\n",
    "         r\"Tile\\Tile_(lost).csv\": Flag(\"lost\", parents = [BaseModeling_Flag, flag_label_Tile, flag_state_lost]),\n",
    "\n",
    "         r\"SmartTag\\SmartTag_(nearby).csv\": Flag(\"nearby\", parents = [BaseModeling_Flag, flag_label_SmartTag_and_Other,flag_state_nearby, \n",
    "                                                                      flag_drop_label_Other]),\n",
    "         r\"SmartTag\\SmartTag_(lost).csv\": Flag(\"lost\", parents = [BaseModeling_Flag, flag_label_SmartTag, flag_state_lost]),\n",
    "\n",
    "         r\"iPhone\\iPhone_(online).csv\":iDevice_Flag,\n",
    "         r\"iPhone\\iPhone_(offline).csv\": iDevice_Flag,\n",
    "         \n",
    "         r\"iPad\\iPad_(online).csv\": iDevice_Flag,\n",
    "         r\"iPad\\iPad_(offline).csv\": iDevice_Flag,\n",
    "         \n",
    "         r\"MacBook\\MacBook_(online).csv\": iDevice_Flag,\n",
    "         r\"MacBook\\MacBook_(offline).csv\": iDevice_Flag,\n",
    "         \n",
    "        }\n",
    "\n",
    "\n",
    "\n",
    "data = filesToDataFrame(files)\n",
    "\n",
    "plotPipeline = getPlotPipeline('Modeling Classes')\n",
    "data = plotPipeline.execute(data)"
   ],
   "metadata": {
    "collapsed": false,
    "ExecuteTime": {
     "end_time": "2024-05-07T20:16:48.689782700Z",
     "start_time": "2024-05-07T20:10:40.453045100Z"
    }
   },
   "id": "dd7a3a82019ee492",
   "execution_count": 10
  }
 ],
 "metadata": {
  "kernelspec": {
   "display_name": "Python 3",
   "language": "python",
   "name": "python3"
  },
  "language_info": {
   "codemirror_mode": {
    "name": "ipython",
    "version": 2
   },
   "file_extension": ".py",
   "mimetype": "text/x-python",
   "name": "python",
   "nbconvert_exporter": "python",
   "pygments_lexer": "ipython2",
   "version": "2.7.6"
  }
 },
 "nbformat": 4,
 "nbformat_minor": 5
}
