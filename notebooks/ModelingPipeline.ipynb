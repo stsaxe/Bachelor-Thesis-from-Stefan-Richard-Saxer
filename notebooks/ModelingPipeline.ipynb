{
 "cells": [
  {
   "cell_type": "markdown",
   "source": [
    "# Modeling Pipeline"
   ],
   "metadata": {
    "collapsed": false
   },
   "id": "9b1616c0dd43968a"
  },
  {
   "cell_type": "code",
   "execution_count": 1,
   "id": "initial_id",
   "metadata": {
    "collapsed": true,
    "jupyter": {
     "outputs_hidden": true
    },
    "ExecuteTime": {
     "end_time": "2024-05-09T00:58:39.081303500Z",
     "start_time": "2024-05-09T00:58:38.104743100Z"
    }
   },
   "outputs": [],
   "source": [
    "import sys\n",
    "sys.path.insert(0, '..')\n",
    "\n",
    "import pandas as pd\n",
    "from src import Task, TaskGroup, Flag, AbstractTask, AbstractFlag, Pipeline, BaseFlag, plotMatrix, plotReport\n",
    "from src import executors as ex\n",
    "\n",
    "import warnings\n",
    "warnings.filterwarnings(\"ignore\")\n"
   ]
  },
  {
   "cell_type": "code",
   "execution_count": 2,
   "id": "680418f754bc3b99",
   "metadata": {
    "collapsed": false,
    "ExecuteTime": {
     "end_time": "2024-05-09T00:58:39.100324500Z",
     "start_time": "2024-05-09T00:58:39.082303500Z"
    }
   },
   "outputs": [],
   "source": [
    "dataPath = r\"..\\data\\csv\" + \"\\\\\"\n",
    "picklePath = r\"..\\pickle_objects\\modeling_pipeline\" + \"\\\\\"\n",
    "plotPath = r\"..\\plots\\modeling_pipeline\" + \"\\\\\"\n",
    "tablePath = r\"..\\tables\\modeling_pipeline\" + \"\\\\\""
   ]
  },
  {
   "cell_type": "code",
   "execution_count": 3,
   "id": "1f34df2e3f9cf70d",
   "metadata": {
    "collapsed": false,
    "ExecuteTime": {
     "end_time": "2024-05-09T00:58:39.760280300Z",
     "start_time": "2024-05-09T00:58:39.084812400Z"
    }
   },
   "outputs": [],
   "source": [
    "file = r\"SkyTag\\SkyTag_(nearby).csv\"\n",
    "data = pd.read_csv(dataPath + file, encoding = 'cp1252')"
   ]
  },
  {
   "cell_type": "code",
   "execution_count": 4,
   "id": "f9681e4e76c240ff",
   "metadata": {
    "collapsed": false,
    "ExecuteTime": {
     "end_time": "2024-05-09T00:58:39.777308500Z",
     "start_time": "2024-05-09T00:58:39.759281100Z"
    }
   },
   "outputs": [],
   "source": [
    "flags = []\n",
    "\n",
    "flag_preProcessing = Flag(\"Pre Processing\")\n",
    "flag_dummy =  Flag(\"Dummy Processing\")\n",
    "flag_modeling =  Flag(\"Modeling\")\n",
    "\n",
    "flags.extend([flag_preProcessing,flag_dummy, flag_modeling])"
   ]
  },
  {
   "cell_type": "code",
   "execution_count": 5,
   "id": "61df3c3c49fd4518",
   "metadata": {
    "collapsed": false,
    "ExecuteTime": {
     "end_time": "2024-05-09T00:58:39.778306600Z",
     "start_time": "2024-05-09T00:58:39.762682500Z"
    }
   },
   "outputs": [
    {
     "name": "stdout",
     "output_type": "stream",
     "text": [
      "Modeling Pipeline\n",
      "\t10 Pre Processing: Pre Processing\n",
      "\t\t10 Select and order columns\n",
      "\t\t20 Company ID and UUID\n",
      "\t\t\t10 Fill Company ID with None\n",
      "\t\t\t20 Fill UUID with None\n",
      "\t\t\t30 Replace Company IDs\n",
      "\t\t\t40 Replace Company UUIDs\n",
      "\t\t30 MS Data Processing\n",
      "\t\t\t10 Fill MS Data with empty String\n",
      "\t\t\t20 Length of MS Data\n",
      "\t\t\t30 Continuity Type\n",
      "\t\t\t40 Drop MS Data Column\n",
      "\t\t40 Service Data Processing\n",
      "\t\t\t10 Fill Service Data with empty String\n",
      "\t\t\t20 Length of Service Data\n",
      "\t\t\t30 Samsung Type\n",
      "\t\t\t40 Drop Service Data Column\n",
      "\t\t50 Fill Numeric NA with 0\n",
      "\t\t60 Fill String NA with None\n",
      "\t\t70 Datetime conversion\n",
      "\t\t80 Clean PDU\n",
      "\t\t90 Order DataFrame\n",
      "\t\t100 Convert object type to string\n"
     ]
    }
   ],
   "source": [
    "modelingPipeline = TaskGroup('Modeling Pipeline', idempotency=True)\n",
    "\n",
    "generalPreProcessing = TaskGroup('Pre Processing', 10, idempotency=True, flags = flag_preProcessing)\n",
    "\n",
    "columns = ['Time', 'Source', 'Channel', 'Length Packet', 'Length Header', 'AD Type', 'Company ID', 'MS Data', 'UUID', 'Service Data', 'PDU']\n",
    "\n",
    "task_orderColumns = Task(\"Select and order columns\", priority=10, \n",
    "                            executor = ex.keepColumns( columns= columns))\n",
    "\n",
    "\n",
    "taskGroup_Company_and_UUID = TaskGroup('Company ID and UUID', priority=20, idempotency=True)\n",
    "\n",
    "\n",
    "task_fillNa_Company = Task(\"Fill Company ID with None\", priority=10,\n",
    "                              executor = ex.fillNa(fillValue=\"None\",\n",
    "                                                   columns=['Company ID']\n",
    "                                                   )\n",
    "                              )\n",
    "\n",
    "task_fillNa_UUID = Task(\"Fill UUID with None\", priority=20,\n",
    "                           executor = ex.fillNa(fillValue=\"None\",\n",
    "                                                columns=['UUID']\n",
    "                                                )\n",
    "                           )\n",
    "\n",
    "\n",
    "companies = {'Apple, Inc.': 'Apple', 'Tile, Inc.': 'Tile', 'Samsung Electronics Co., Ltd.': 'Samsung', 'Apple Inc.': 'Apple'}\n",
    "\n",
    "task_ReplaceCompanyID = Task(\"Replace Company IDs\", priority = 30, executor = ex.StringReplace(column = 'Company ID', replace = companies))\n",
    "task_ReplaceCompanyUUID = Task(\"Replace Company UUIDs\", priority = 40, executor = ex.StringReplace(column = 'UUID', replace = companies))\n",
    "\n",
    "\n",
    "taskGroup_Company_and_UUID.addAll([task_fillNa_Company, task_fillNa_UUID, task_ReplaceCompanyID, task_ReplaceCompanyUUID\n",
    "                                   ])\n",
    "\n",
    "taskGroup_MS_Data = TaskGroup(\"MS Data Processing\", priority=30, idempotency=True)\n",
    "\n",
    "task_convert_fillNa_MSData = Task(\"Fill MS Data with empty String\", priority=10, \n",
    "                                     executor = ex.fillNa(fillValue=\"\", \n",
    "                                                          columns=['MS Data']\n",
    "                                                          )\n",
    "                                     )\n",
    "\n",
    "\n",
    "task_length_MS_Data = Task(\"Length of MS Data\", priority = 20, \n",
    "                              executor = ex.convertToBitLength('MS Data', newColumn='Length MS Data')\n",
    "                              )\n",
    "\n",
    "task_Continuity_Type = Task(\"Continuity Type\", priority=30, \n",
    "                               executor = ex.extractAppleDataType(  companyColumn=\"Company ID\", \n",
    "                                                               company = 'Apple', \n",
    "                                                               dataColumn= 'MS Data', \n",
    "                                                               typeColumn= 'Continuity Type', \n",
    "                                                               noneValue= \"None\")\n",
    "                               )\n",
    "\n",
    "task_drop_MS_Data = Task(\"Drop MS Data Column\", priority=40, \n",
    "                            executor = ex.dropColumns(columns=['MS Data'])\n",
    "                            )\n",
    "\n",
    "taskGroup_MS_Data.addAll([task_convert_fillNa_MSData, task_length_MS_Data, task_Continuity_Type, task_drop_MS_Data])\n",
    "\n",
    "\n",
    "taskGroup_ServiceData = TaskGroup(\"Service Data Processing\", priority=40, idempotency=True)\n",
    "\n",
    "task_convert_fillNa_ServiceData = Task(\"Fill Service Data with empty String\", priority=10,\n",
    "                                     executor = ex.fillNa(fillValue=\"\",\n",
    "                                                          columns=['Service Data']\n",
    "                                                          )\n",
    "                                     )\n",
    "\n",
    "task_length_ServiceData= Task(\"Length of Service Data\", priority = 20,\n",
    "                              executor = ex.convertToBitLength(column = 'Service Data', newColumn='Length Service Data')\n",
    "                              )\n",
    "\n",
    "task_Samsung_Type= Task(\"Samsung Type\", priority=30,\n",
    "                           executor = ex.extractSamsungDataType(companyColumn=\"UUID\",\n",
    "                                                                company = 'Samsung',\n",
    "                                                                dataColumn= 'Service Data',\n",
    "                                                                typeColumn= 'SmartTag Type',\n",
    "                                                                noneValue= \"None\")\n",
    "                           )\n",
    "\n",
    "task_drop_Service_Data = Task(\"Drop Service Data Column\", priority=40,\n",
    "                            executor = ex.dropColumns(columns=['Service Data'])\n",
    "                            )\n",
    "\n",
    "\n",
    "taskGroup_ServiceData.addAll([task_convert_fillNa_ServiceData, task_length_ServiceData, task_Samsung_Type, task_drop_Service_Data])\n",
    "\n",
    "\n",
    "\n",
    "\n",
    "\n",
    "task_fillNa_Numeric = Task(\"Fill Numeric NA with 0\", priority=50, \n",
    "                              executor = ex.fillNa(fillValue=\"None\", \n",
    "                                                   columns = ['Length Packet', 'Length Header']\n",
    "                                                   )\n",
    "                              )\n",
    "\n",
    "task_fillNa_String = Task(\"Fill String NA with None\", priority=60, executor = ex.fillNa(fillValue=\"None\"))\n",
    "\n",
    "\n",
    "\n",
    "task_toDatetime = Task(\"Datetime conversion\", priority = 70, \n",
    "                          executor = ex.toDateTime(column = \"Time\", \n",
    "                                                   unit = 's'\n",
    "                                                   )\n",
    "                          )\n",
    "\n",
    "\n",
    "\n",
    "task_clean_PDU = Task(\"Clean PDU\", priority=80, executor=ex.cleanPDU(column = 'PDU'))\n",
    "\n",
    "\n",
    "\n",
    "task_orderDataFrame =  Task(\"Order DataFrame\",  priority=90,\n",
    "                               executor= ex.orderDataFrame(column = \"Time\", \n",
    "                                                           ascending=True\n",
    "                                                           )\n",
    "                               )\n",
    "\n",
    "task_convertObjectToString= Task(\"Convert object type to string\", priority=100, executor=ex.convertObjectToString())\n",
    "\n",
    "\n",
    "generalPreProcessing.addAll([task_orderColumns, taskGroup_Company_and_UUID, task_toDatetime, task_convertObjectToString, task_fillNa_Numeric, task_fillNa_String, task_orderDataFrame, taskGroup_MS_Data, taskGroup_ServiceData, task_clean_PDU])\n",
    "modelingPipeline.add(generalPreProcessing)\n",
    "\n",
    "modelingPipeline.print(flags=True, priority=True)"
   ]
  },
  {
   "cell_type": "code",
   "execution_count": 6,
   "id": "83ddfc767314061f",
   "metadata": {
    "collapsed": false,
    "ExecuteTime": {
     "end_time": "2024-05-09T00:58:39.781880400Z",
     "start_time": "2024-05-09T00:58:39.776308100Z"
    }
   },
   "outputs": [
    {
     "name": "stdout",
     "output_type": "stream",
     "text": [
      "Modeling Pipeline\n",
      "\t10 Pre Processing: Pre Processing\n",
      "\t\t10 Select and order columns\n",
      "\t\t20 Company ID and UUID\n",
      "\t\t\t10 Fill Company ID with None\n",
      "\t\t\t20 Fill UUID with None\n",
      "\t\t\t30 Replace Company IDs\n",
      "\t\t\t40 Replace Company UUIDs\n",
      "\t\t30 MS Data Processing\n",
      "\t\t\t10 Fill MS Data with empty String\n",
      "\t\t\t20 Length of MS Data\n",
      "\t\t\t30 Continuity Type\n",
      "\t\t\t40 Drop MS Data Column\n",
      "\t\t40 Service Data Processing\n",
      "\t\t\t10 Fill Service Data with empty String\n",
      "\t\t\t20 Length of Service Data\n",
      "\t\t\t30 Samsung Type\n",
      "\t\t\t40 Drop Service Data Column\n",
      "\t\t50 Fill Numeric NA with 0\n",
      "\t\t60 Fill String NA with None\n",
      "\t\t70 Datetime conversion\n",
      "\t\t80 Clean PDU\n",
      "\t\t90 Order DataFrame\n",
      "\t\t100 Convert object type to string\n",
      "\t20 Dummy Processing: Dummy Processing\n",
      "\t\t10 Dummies Channel\n",
      "\t\t20 Dummies AD Type\n",
      "\t\t30 Dummies Company\n",
      "\t\t40 Dummies UUID\n",
      "\t\t50 Dummies PDU Type\n",
      "\t\t60 Dummies Continuity Type\n",
      "\t\t70 Dummies SmartTag Type\n"
     ]
    }
   ],
   "source": [
    "DummmyProcessing = TaskGroup(\"Dummy Processing\", priority=20, idempotency=True, flags = flag_dummy)\n",
    "\n",
    "\n",
    "\n",
    "task_DummiesChannel =  Task(\"Dummies Channel\",  priority=10,\n",
    "                               executor= ex.createDummies( column = 'Channel', \n",
    "                                                           labels = [37, 38, 39], \n",
    "                                                           prefix = \"CH\", \n",
    "                                                           splitting = False, \n",
    "                                                           dropColumn= True, \n",
    "                                                           NoneValue= 'None')\n",
    "                               )\n",
    "\n",
    "AD_Types = [ 'Manufacturer Specific',\n",
    "             'Flags',\n",
    "             'Tx Power Level',\n",
    "             'Service Data - 16 bit UUID',\n",
    "             '16-bit Service Class UUIDs',\n",
    "             '16-bit Service Class UUIDs (incomplete)'\n",
    "            ]\n",
    "\n",
    "task_DummiesAdType= Task(\"Dummies AD Type\", priority=20,\n",
    "                            executor = ex.createDummies(column = 'AD Type', \n",
    "                                                        labels = AD_Types, prefix='AD', \n",
    "                                                        splitting = True, \n",
    "                                                        OtherColumn = True, \n",
    "                                                        dropColumn=True, \n",
    "                                                        NoneValue= 'None')\n",
    "                            )\n",
    "\n",
    "\n",
    "task_DummiesCompany = Task(\"Dummies Company\",   priority=30,\n",
    "                              executor = ex.createDummies(column = 'Company ID', \n",
    "                                                          labels = ['Apple'], \n",
    "                                                          prefix = \"COMP\",\n",
    "                                                          splitting = False, \n",
    "                                                          OtherColumn = True, \n",
    "                                                          dropColumn= True, \n",
    "                                                          NoneValue= 'None')\n",
    "                              )\n",
    "\n",
    "task_DummiesUUID = Task(\"Dummies UUID\",   priority=40,\n",
    "                            executor = ex.createDummies(column = 'UUID',\n",
    "                                                          labels = ['Samsung', 'Tile'],\n",
    "                                                          prefix = \"UUID\",\n",
    "                                                          splitting = True,\n",
    "                                                          OtherColumn = True,\n",
    "                                                          dropColumn= True,\n",
    "                                                          NoneValue= 'None')\n",
    "                              )\n",
    "\n",
    "\n",
    "InfoTypes = ['ADV_IND', \n",
    "             'ADV_NONCONN_IND', \n",
    "             'ADV_SCAN_IND',\n",
    "             ]\n",
    "\n",
    "\n",
    "task_DummiesInfo =  Task(\"Dummies PDU Type\", priority=50,\n",
    "                            executor = ex.createDummies(column = 'PDU', \n",
    "                                                        labels = InfoTypes,\n",
    "                                                        prefix='PDU',\n",
    "                                                        splitting = False, \n",
    "                                                        OtherColumn = True, \n",
    "                                                        dropColumn=True, \n",
    "                                                        NoneValue= 'None')\n",
    "                            )\n",
    "\n",
    "\n",
    "continuityTypes = ['07', '12']\n",
    "\n",
    "task_DummiesContinuity =  Task(\"Dummies Continuity Type\", priority=60,\n",
    "                                    executor = ex.createDummies(column = 'Continuity Type', \n",
    "                                                                labels = continuityTypes, \n",
    "                                                                prefix='CT', \n",
    "                                                                splitting = False, \n",
    "                                                                OtherColumn = True, \n",
    "                                                                dropColumn=False, \n",
    "                                                                NoneValue= 'None')\n",
    "                                 )\n",
    "\n",
    "\n",
    "SmartTagTypes = ['3', '5']\n",
    "\n",
    "task_DummiesSmartTagType=  Task(\"Dummies SmartTag Type\", priority=70,\n",
    "                                  executor = ex.createDummies(column = 'SmartTag Type',\n",
    "                                                              labels = SmartTagTypes,\n",
    "                                                              prefix='ST',\n",
    "                                                              splitting = False,\n",
    "                                                              OtherColumn = True,\n",
    "                                                              dropColumn=True,\n",
    "                                                              NoneValue= 'None')\n",
    "                                  )\n",
    "\n",
    "\n",
    "DummmyProcessing.addAll([task_DummiesCompany, task_DummiesUUID, task_DummiesChannel, task_DummiesAdType, task_DummiesInfo, task_DummiesContinuity, task_DummiesSmartTagType])\n",
    "\n",
    "modelingPipeline.add(DummmyProcessing)\n",
    "modelingPipeline.print(flags=True, priority=True)"
   ]
  },
  {
   "cell_type": "code",
   "execution_count": 7,
   "id": "bcf5849e034f51dc",
   "metadata": {
    "collapsed": false,
    "ExecuteTime": {
     "end_time": "2024-05-09T00:58:39.813640100Z",
     "start_time": "2024-05-09T00:58:39.782875300Z"
    }
   },
   "outputs": [
    {
     "name": "stdout",
     "output_type": "stream",
     "text": [
      "Modeling Pipeline\n",
      "\t10 Pre Processing: Pre Processing\n",
      "\t\t10 Select and order columns\n",
      "\t\t20 Company ID and UUID\n",
      "\t\t\t10 Fill Company ID with None\n",
      "\t\t\t20 Fill UUID with None\n",
      "\t\t\t30 Replace Company IDs\n",
      "\t\t\t40 Replace Company UUIDs\n",
      "\t\t30 MS Data Processing\n",
      "\t\t\t10 Fill MS Data with empty String\n",
      "\t\t\t20 Length of MS Data\n",
      "\t\t\t30 Continuity Type\n",
      "\t\t\t40 Drop MS Data Column\n",
      "\t\t40 Service Data Processing\n",
      "\t\t\t10 Fill Service Data with empty String\n",
      "\t\t\t20 Length of Service Data\n",
      "\t\t\t30 Samsung Type\n",
      "\t\t\t40 Drop Service Data Column\n",
      "\t\t50 Fill Numeric NA with 0\n",
      "\t\t60 Fill String NA with None\n",
      "\t\t70 Datetime conversion\n",
      "\t\t80 Clean PDU\n",
      "\t\t90 Order DataFrame\n",
      "\t\t100 Convert object type to string\n",
      "\t20 Dummy Processing: Dummy Processing\n",
      "\t\t10 Dummies Channel\n",
      "\t\t20 Dummies AD Type\n",
      "\t\t30 Dummies Company\n",
      "\t\t40 Dummies UUID\n",
      "\t\t50 Dummies PDU Type\n",
      "\t\t60 Dummies Continuity Type\n",
      "\t\t70 Dummies SmartTag Type\n",
      "\t60 Modeling: Modeling\n",
      "\t\t0 Drop Column Continuity\n",
      "\t\t10 Rate Modeling: Rate Modeling\n",
      "\t\t20 Drop Columns: Drop Columns\n"
     ]
    }
   ],
   "source": [
    "taskGroup_Modeling = TaskGroup(\"Modeling\", priority=60, idempotency=True, flags = flag_modeling)\n",
    "\n",
    "flag_dropColumns = Flag(\"Drop Columns\", parents=flag_modeling)\n",
    "task_dropColumns = Task(\"Drop Columns\", priority=20, executor = ex.dropColumns(columns = ['Source', 'Time']), flags = flag_dropColumns)\n",
    "\n",
    "flag_rateModeling = Flag(\"Rate Modeling\", parents=flag_modeling)\n",
    "task_rateModeling =Task(\"Rate Modeling\", priority=10, executor = ex.modelRate(source='Source', time='Time', labelColumn='Label', seconds=10), flags = flag_rateModeling)\n",
    "\n",
    "\n",
    "task_dropColumns_Continuity =  Task(\"Drop Column Continuity\", priority=0, executor = ex.dropColumns(columns = ['Continuity Type']))\n",
    "\n",
    "flags.extend([flag_rateModeling, flag_dropColumns])\n",
    "\n",
    "taskGroup_Modeling.addAll([task_dropColumns, task_dropColumns_Continuity, task_rateModeling])\n",
    "\n",
    "modelingPipeline.add(taskGroup_Modeling)\n",
    "modelingPipeline.print(flags=True, priority=True)"
   ]
  },
  {
   "cell_type": "code",
   "outputs": [
    {
     "name": "stdout",
     "output_type": "stream",
     "text": [
      "<class 'pandas.core.frame.DataFrame'>\n",
      "Index: 645973 entries, 0 to 645972\n",
      "Data columns (total 29 columns):\n",
      " #   Column                                      Non-Null Count   Dtype\n",
      "---  ------                                      --------------   -----\n",
      " 0   Length Packet                               645973 non-null  int64\n",
      " 1   Length Header                               645973 non-null  int64\n",
      " 2   Length MS Data                              645973 non-null  int32\n",
      " 3   Length Service Data                         645973 non-null  int32\n",
      " 4   CH 37                                       645973 non-null  int32\n",
      " 5   CH 38                                       645973 non-null  int32\n",
      " 6   CH 39                                       645973 non-null  int32\n",
      " 7   AD Manufacturer Specific                    645973 non-null  int32\n",
      " 8   AD Flags                                    645973 non-null  int32\n",
      " 9   AD Tx Power Level                           645973 non-null  int32\n",
      " 10  AD Service Data - 16 bit UUID               645973 non-null  int64\n",
      " 11  AD 16-bit Service Class UUIDs               645973 non-null  int64\n",
      " 12  AD 16-bit Service Class UUIDs (incomplete)  645973 non-null  int64\n",
      " 13  AD Other                                    645973 non-null  int32\n",
      " 14  COMP Apple                                  645973 non-null  int32\n",
      " 15  COMP Other                                  645973 non-null  int32\n",
      " 16  UUID Samsung                                645973 non-null  int64\n",
      " 17  UUID Tile                                   645973 non-null  int64\n",
      " 18  UUID Other                                  645973 non-null  int64\n",
      " 19  PDU ADV_IND                                 645973 non-null  int32\n",
      " 20  PDU ADV_NONCONN_IND                         645973 non-null  int32\n",
      " 21  PDU ADV_SCAN_IND                            645973 non-null  int64\n",
      " 22  PDU Other                                   645973 non-null  int32\n",
      " 23  CT 07                                       645973 non-null  int64\n",
      " 24  CT 12                                       645973 non-null  int32\n",
      " 25  CT Other                                    645973 non-null  int32\n",
      " 26  ST 3                                        645973 non-null  int64\n",
      " 27  ST 5                                        645973 non-null  int64\n",
      " 28  ST Other                                    645973 non-null  int64\n",
      "dtypes: int32(16), int64(13)\n",
      "memory usage: 108.4 MB\n"
     ]
    }
   ],
   "source": [
    "temp = modelingPipeline.process(data.copy(deep=True), flag = Flag(\"Run\", parents = [flag_preProcessing, flag_dummy, flag_modeling, flag_dropColumns]))\n",
    "temp.info()"
   ],
   "metadata": {
    "collapsed": false,
    "ExecuteTime": {
     "end_time": "2024-05-09T00:58:49.441867400Z",
     "start_time": "2024-05-09T00:58:39.786018Z"
    }
   },
   "id": "6d00f0d19d07e396",
   "execution_count": 8
  },
  {
   "cell_type": "code",
   "execution_count": 9,
   "id": "53174669344768ff",
   "metadata": {
    "collapsed": false,
    "ExecuteTime": {
     "end_time": "2024-05-09T00:58:49.462696100Z",
     "start_time": "2024-05-09T00:58:49.446373Z"
    }
   },
   "outputs": [],
   "source": [
    "from sklearn.preprocessing import MinMaxScaler\n",
    "from sklearn.semi_supervised import SelfTrainingClassifier\n",
    "from sklearn.neural_network import MLPClassifier\n",
    "from copy import deepcopy\n",
    "\n",
    "def filesToDataFrame(filesDict: dict[str:str], config: AbstractTask, filePath: str = dataPath,  shuffle:bool = False) -> pd.DataFrame:\n",
    "    dataset = pd.DataFrame()\n",
    "\n",
    "    for f in filesDict:\n",
    "        new_dataset = Pipeline().setPath(filePath + f).setTask(config).loadData().run(flag=filesDict[f])\n",
    "        dataset = pd.concat([dataset, new_dataset])\n",
    "\n",
    "    if shuffle:\n",
    "        dataset = dataset.sample(frac = 1, random_state=1)\n",
    "\n",
    "    dataset.reset_index(drop = True, inplace = True)\n",
    "\n",
    "    return dataset\n",
    "\n",
    "def semiSupervisedLearning(dataset: pd.DataFrame, threshold: float, labelColumn:str = 'Label',\n",
    "                           model =  MLPClassifier(max_iter = 200, verbose = False, random_state = 1, tol = 0.00001, early_stopping = True), \n",
    "                           scaler = MinMaxScaler()\n",
    "                           ):\n",
    "    \n",
    "    Y = dataset[labelColumn]\n",
    "    X = dataset.drop([labelColumn], axis = 1)\n",
    "    \n",
    "    scalerSelfTrain = scaler\n",
    "    X = scalerSelfTrain.fit_transform(X)\n",
    "    \n",
    "    selfTrainer = SelfTrainingClassifier(model, threshold=threshold, max_iter=5, verbose=True)\n",
    "    selfTrainer.fit(X, Y)\n",
    "    \n",
    "    return selfTrainer, scalerSelfTrain\n",
    "\n",
    "def evaluateModel(model, scaler, dataset: pd.DataFrame, name:str, path_plot:str = plotPath, path_table:str = tablePath, labelColumn: str = 'Label'):\n",
    "    Y = dataset[labelColumn]\n",
    "    X = dataset.drop([labelColumn], axis = 1)\n",
    "    labels = sorted(list(Y.unique()))\n",
    "    \n",
    "    X = scaler.transform(X)\n",
    "    y_pred = model.predict(X)\n",
    "    \n",
    "    print(\"\\n\")\n",
    "    plotReport(Y, y_pred, labels, name = name, savePath=path_table)\n",
    "    plotMatrix(Y, y_pred, labels, name = name, savePath=path_plot, dpi=100)\n",
    "\n",
    "\n",
    "def nearbyTrackerConfigFactory(BaseConfig: TaskGroup, firstDevice: str, secondDevice: str, parentFlags:list[AbstractFlag], priority: int = 30, \n",
    "                               selection: slice = slice(0), sourceColumn: str = 'Source', labelColumn: str = 'Label'):\n",
    "  \n",
    "    label_Traker_nearby_Flag = Flag(name = \"Label nearby Tracker Flag\", parents = parentFlags)\n",
    "    label_Unknown_Flag = Flag(\"Unknown Label Flag\", parents = parentFlags)\n",
    "\n",
    "    taskGroup_Labeling = TaskGroup(\"Labeling\", priority=priority, idempotency=True)\n",
    "\n",
    "    task_Label_Unknown = Task(\"Label Unknown\", executor = ex.labeling(label = -1,  labelColumn = labelColumn), flags=label_Unknown_Flag,)\n",
    "\n",
    "    task_Label_Tracker_nearby = Task(\"Label nearby Tracker\" ,\n",
    "                                        executor = ex.labelMultipleDevices(firstDevice = firstDevice, secondDevice = secondDevice, selection = selection, source = sourceColumn, labelColumn = labelColumn)\n",
    "                                        ,flags = label_Traker_nearby_Flag)\n",
    "\n",
    "    taskGroup_Labeling.addAll([task_Label_Unknown, task_Label_Tracker_nearby])\n",
    "    config = BaseConfig.copy().add(taskGroup_Labeling)\n",
    "\n",
    "    return config, label_Traker_nearby_Flag, label_Unknown_Flag\n",
    "\n",
    "def nearbyTrackerTaskFactory(labeledFiles: list[str], unlabeledFiles:list[str], evaluationFiles:list[str], BaseConfig:TaskGroup, firstDevice:str, \n",
    "                             secondDevice:str, priority:int = 30, flags: AbstractFlag = BaseFlag(), selection: slice = slice(0), sourceColumn: str = 'Source', \n",
    "                             labelColumn: str = 'Label', dropColumns:list[str] =None, suffix = '', parentFlags: list[AbstractFlag] =None, \n",
    "                             threshold:float = 0.95) -> Task:\n",
    "    if parentFlags is None:\n",
    "        parentFlags = [flag_modeling, flag_dummy, flag_preProcessing, flag_dropColumns]\n",
    "    if dropColumns is None:\n",
    "        dropColumns = ['Time', 'Source', 'Continuity Type']\n",
    "        \n",
    "    NearbyTrackerConfig, label_Traker_nearby_Flag, label_Unknown_Flag = nearbyTrackerConfigFactory(BaseConfig, firstDevice, secondDevice, parentFlags, priority, selection, sourceColumn, labelColumn)\n",
    "\n",
    "    files_training = {f: label_Traker_nearby_Flag for f in labeledFiles}\n",
    "    files_training.update({f: label_Unknown_Flag for f in unlabeledFiles})\n",
    "    \n",
    "    files_evaluation = {f: label_Traker_nearby_Flag for f in evaluationFiles}\n",
    "\n",
    "    training_data = filesToDataFrame(files_training, config = NearbyTrackerConfig, shuffle = True)\n",
    "    evaluation_data = filesToDataFrame(files_evaluation, config = NearbyTrackerConfig, shuffle = True)\n",
    "    \n",
    "    fitted_model, fitted_scaler = semiSupervisedLearning(training_data, threshold = threshold)\n",
    "    \n",
    "    title = \"Label \" + firstDevice + \" and \" + secondDevice + \" \" + suffix\n",
    "    title = title.strip()\n",
    "    \n",
    "    evaluateModel(deepcopy(fitted_model), deepcopy(fitted_scaler), evaluation_data, name= title)\n",
    "    \n",
    "    return Task(title, flags = flags,  executor= ex.autoLabel(classifier=deepcopy(fitted_model), scaler=deepcopy(fitted_scaler), dropColumns=dropColumns, labelColumn = labelColumn))"
   ]
  },
  {
   "cell_type": "code",
   "execution_count": 10,
   "id": "49452d42680d9807",
   "metadata": {
    "collapsed": false,
    "ExecuteTime": {
     "end_time": "2024-05-09T00:58:49.463699100Z",
     "start_time": "2024-05-09T00:58:49.456390800Z"
    }
   },
   "outputs": [
    {
     "name": "stdout",
     "output_type": "stream",
     "text": [
      "Modeling Pipeline\n",
      "\t10 Pre Processing: Pre Processing\n",
      "\t\t10 Select and order columns\n",
      "\t\t20 Company ID and UUID\n",
      "\t\t\t10 Fill Company ID with None\n",
      "\t\t\t20 Fill UUID with None\n",
      "\t\t\t30 Replace Company IDs\n",
      "\t\t\t40 Replace Company UUIDs\n",
      "\t\t30 MS Data Processing\n",
      "\t\t\t10 Fill MS Data with empty String\n",
      "\t\t\t20 Length of MS Data\n",
      "\t\t\t30 Continuity Type\n",
      "\t\t\t40 Drop MS Data Column\n",
      "\t\t40 Service Data Processing\n",
      "\t\t\t10 Fill Service Data with empty String\n",
      "\t\t\t20 Length of Service Data\n",
      "\t\t\t30 Samsung Type\n",
      "\t\t\t40 Drop Service Data Column\n",
      "\t\t50 Fill Numeric NA with 0\n",
      "\t\t60 Fill String NA with None\n",
      "\t\t70 Datetime conversion\n",
      "\t\t80 Clean PDU\n",
      "\t\t90 Order DataFrame\n",
      "\t\t100 Convert object type to string\n",
      "\t20 Dummy Processing: Dummy Processing\n",
      "\t\t10 Dummies Channel\n",
      "\t\t20 Dummies AD Type\n",
      "\t\t30 Dummies Company\n",
      "\t\t40 Dummies UUID\n",
      "\t\t50 Dummies PDU Type\n",
      "\t\t60 Dummies Continuity Type\n",
      "\t\t70 Dummies SmartTag Type\n",
      "\t60 Modeling: Modeling\n",
      "\t\t0 Drop Column Continuity\n",
      "\t\t10 Rate Modeling: Rate Modeling\n",
      "\t\t20 Drop Columns: Drop Columns\n"
     ]
    }
   ],
   "source": [
    "NearbyTrackerConfig = modelingPipeline.copy()\n",
    "NearbyTrackerConfig.print(priority =True, flags = True)"
   ]
  },
  {
   "cell_type": "code",
   "execution_count": 11,
   "id": "479ed2274a8cb9bb",
   "metadata": {
    "collapsed": false,
    "ExecuteTime": {
     "end_time": "2024-05-09T00:58:49.463699100Z",
     "start_time": "2024-05-09T00:58:49.458964700Z"
    }
   },
   "outputs": [],
   "source": [
    "label_FindMy_Tracker = \"FindMy Tracker\"\n",
    "label_iDevice = \"iDevice\"\n",
    "label_SmartTag = 'SmartTag'\n",
    "label_Tile = 'Tile'\n",
    "label_other_Device = 'other Device'\n",
    "label_AirPod = 'AirPod'\n",
    "label_Unknown = -1\n",
    "\n",
    "labels_devices = [label_FindMy_Tracker, label_iDevice, label_SmartTag, label_Tile, label_other_Device, label_AirPod, label_Unknown]\n",
    "\n",
    "labels_trackers = [label_FindMy_Tracker, label_SmartTag, label_Tile]\n",
    "labels_iDevices = [label_iDevice]"
   ]
  },
  {
   "cell_type": "code",
   "execution_count": 12,
   "id": "27ba73caccc494fb",
   "metadata": {
    "collapsed": false,
    "ExecuteTime": {
     "end_time": "2024-05-09T00:58:49.467739500Z",
     "start_time": "2024-05-09T00:58:49.462696100Z"
    }
   },
   "outputs": [],
   "source": [
    "flag_labeling = Flag(\"Labeling\")\n",
    "\n",
    "flag_label_auto = Flag(\"Labeling auto\", parents=flag_labeling)\n",
    "flag_label_FindMy_Tracker_and_iDevice = Flag(f\"Label {label_FindMy_Tracker} and {label_iDevice}\", parents=flag_label_auto)\n",
    "flag_label_AirPod_and_iDevice = Flag(f\"Label {label_AirPod} and {label_iDevice}\", parents=flag_label_auto)\n",
    "flag_label_Tile_and_iDevice = Flag(f\"Label {label_Tile} and {label_iDevice}\", parents=flag_label_auto)\n",
    "flag_label_SmartTag_and_Other = Flag(f\"Label {label_SmartTag} and Other\", parents=flag_label_auto)\n",
    "\n",
    "flag_label_manual = Flag(\"Labeling manual\", parents=flag_labeling)\n",
    "\n",
    "flag_label_FindMy_Tracker = Flag(f\"Label {label_FindMy_Tracker}\", parents=flag_label_manual)\n",
    "flag_label_iDevice = Flag(f\"Label {label_iDevice}\", parents=flag_label_manual)\n",
    "flag_label_SmartTag = Flag(f\"Label {label_SmartTag}\", parents=flag_label_manual)\n",
    "flag_label_Tile = Flag(f\"Label {label_Tile}\", parents=flag_label_manual)\n",
    "flag_label_Other = Flag(f\"Label {label_other_Device}\", parents=flag_label_manual)\n",
    "flag_label_AirPod = Flag(f\"Label {label_AirPod}\", parents=flag_label_manual)\n",
    "flag_label_Unknown = Flag(\"Label Unknown\", parents=flag_label_manual)\n",
    "\n",
    "flag_states = Flag(\"States\")\n",
    "\n",
    "flag_states_iDevices = Flag(\"States iDevices\", parents=flag_states)\n",
    "flag_states_Continuity = Flag(\"States Continuity\", parents=flag_states_iDevices)\n",
    "\n",
    "\n",
    "flag_states_Tracker = Flag(\"States Tracker\", parents=flag_states)\n",
    "flag_state_lost = Flag(\"State lost\", parents=flag_states_Tracker)\n",
    "flag_state_unpaired = Flag(\"State unpaired\", parents=flag_states_Tracker)\n",
    "flag_state_nearby = Flag(\"State nearby\", parents=flag_states_Tracker)\n",
    "\n",
    "flags.extend([flag_labeling])\n",
    "\n",
    "flags.extend([flag_label_manual, flag_label_FindMy_Tracker, flag_label_iDevice, flag_label_SmartTag, flag_label_Tile, flag_label_Other, flag_label_Unknown])\n",
    "\n",
    "flags.extend([flag_label_auto, flag_label_FindMy_Tracker_and_iDevice, flag_label_Tile_and_iDevice, flag_label_SmartTag_and_Other])\n",
    "\n",
    "flags.extend([flag_states, flag_states_iDevices, flag_states_Continuity, flag_states_Tracker, flag_state_lost, flag_state_unpaired, flag_state_nearby])"
   ]
  },
  {
   "cell_type": "code",
   "execution_count": 13,
   "id": "345cf678b994d723",
   "metadata": {
    "collapsed": false,
    "ExecuteTime": {
     "end_time": "2024-05-09T00:58:49.478678400Z",
     "start_time": "2024-05-09T00:58:49.468739500Z"
    }
   },
   "outputs": [],
   "source": [
    "label_flag_lut = {  label_FindMy_Tracker: flag_label_FindMy_Tracker,\n",
    "                    label_iDevice: flag_label_iDevice,\n",
    "                    label_SmartTag: flag_label_SmartTag,\n",
    "                    label_Tile: flag_label_Tile,\n",
    "                    label_other_Device: flag_label_Other,\n",
    "                    label_AirPod: flag_label_AirPod,\n",
    "                    label_Unknown: flag_label_Unknown\n",
    "                }"
   ]
  },
  {
   "cell_type": "code",
   "execution_count": 14,
   "id": "1c05c2aec2ee118d",
   "metadata": {
    "collapsed": false,
    "ExecuteTime": {
     "end_time": "2024-05-09T00:58:49.479678700Z",
     "start_time": "2024-05-09T00:58:49.471646900Z"
    }
   },
   "outputs": [],
   "source": [
    "taskGroup_Labeling = TaskGroup(\"Labeling\", priority=30, idempotency=True, flags = flag_labeling)\n",
    "taskGroup_Labeling_auto = TaskGroup(\"Labeling auto\", priority=10, idempotency=True, flags = flag_label_auto)\n",
    "taskGroup_Labeling_manual = TaskGroup(\"Labeling manual\", priority=20, idempotency=True, flags = flag_label_manual)"
   ]
  },
  {
   "cell_type": "code",
   "execution_count": 15,
   "id": "4a5838d345f76490",
   "metadata": {
    "collapsed": false,
    "ExecuteTime": {
     "end_time": "2024-05-09T00:58:54.139899200Z",
     "start_time": "2024-05-09T00:58:49.474679200Z"
    }
   },
   "outputs": [
    {
     "name": "stdout",
     "output_type": "stream",
     "text": [
      "\n",
      "Classification Report - Label FindMy Tracker and iDevice\n",
      "                precision    recall  f1-score   support\n",
      "\n",
      "FindMy Tracker     1.0000    0.9985    0.9993      3382\n",
      "       iDevice     0.9998    1.0000    0.9999     31129\n",
      "\n",
      "      accuracy                         0.9999     34511\n",
      "     macro avg     0.9999    0.9993    0.9996     34511\n",
      "  weighted avg     0.9999    0.9999    0.9999     34511\n"
     ]
    },
    {
     "data": {
      "text/plain": "<Figure size 1100x900 with 2 Axes>",
      "image/png": "[encoded data removed]"
     },
     "metadata": {},
     "output_type": "display_data"
    },
    {
     "data": {
      "text/plain": "<src.pre_processing.tasks.task_group.TaskGroup at 0x1a50a92ee70>"
     },
     "execution_count": 15,
     "metadata": {},
     "output_type": "execute_result"
    }
   ],
   "source": [
    "labeledFiles = [r\"AirTag\\AirTag_(nearby)_labeled_training.csv\",\n",
    "                r\"Chipolo\\Chipolo_(nearby)_labeled_training.csv\",\n",
    "                r\"SkyTag\\SkyTag_(nearby)_labeled_training.csv\",\n",
    "                 ]\n",
    "\n",
    "unlabeledFiles = [#r\"AirTag\\AirTag_(nearby)_3h.csv\",\n",
    "                  #r\"Chipolo\\Chipolo_(nearby)_3h.csv\",\n",
    "                  #r\"SkyTag\\SkyTag_(nearby)_3h.csv\"\n",
    "                   ]\n",
    "\n",
    "evaluationFiles = [r\"AirTag\\AirTag_(nearby)_labeled_evaluation.csv\",\n",
    "                   r\"Chipolo\\Chipolo_(nearby)_labeled_evaluation.csv\",\n",
    "                   r\"SkyTag\\SkyTag_(nearby)_labeled_evaluation.csv\"\n",
    "                    ]\n",
    "\n",
    "\n",
    "\n",
    "task_label_FindMyTracker_nearby_auto = nearbyTrackerTaskFactory(BaseConfig=NearbyTrackerConfig, \n",
    "                                                         labeledFiles=labeledFiles,\n",
    "                                                         unlabeledFiles= unlabeledFiles,\n",
    "                                                         evaluationFiles= evaluationFiles,\n",
    "                                                         firstDevice=label_FindMy_Tracker,\n",
    "                                                         secondDevice=label_iDevice,\n",
    "                                                         flags = flag_label_FindMy_Tracker_and_iDevice)\n",
    "\n",
    "taskGroup_Labeling_auto.add(task_label_FindMyTracker_nearby_auto)"
   ]
  },
  {
   "cell_type": "code",
   "outputs": [
    {
     "name": "stdout",
     "output_type": "stream",
     "text": [
      "End of iteration 1, added 133270 new labels.\n",
      "End of iteration 2, added 24356 new labels.\n",
      "\n",
      "Classification Report - Label Tile and iDevice\n",
      "              precision    recall  f1-score   support\n",
      "\n",
      "        Tile     1.0000    0.9981    0.9990      1033\n",
      "     iDevice     0.9999    1.0000    0.9999     18619\n",
      "\n",
      "    accuracy                         0.9999     19652\n",
      "   macro avg     0.9999    0.9990    0.9995     19652\n",
      "weighted avg     0.9999    0.9999    0.9999     19652\n"
     ]
    },
    {
     "data": {
      "text/plain": "<Figure size 1100x900 with 2 Axes>",
      "image/png": "[encoded data removed]"
     },
     "metadata": {},
     "output_type": "display_data"
    },
    {
     "data": {
      "text/plain": "<src.pre_processing.tasks.task_group.TaskGroup at 0x1a50a92ee70>"
     },
     "execution_count": 16,
     "metadata": {},
     "output_type": "execute_result"
    }
   ],
   "source": [
    "labeledFiles = [r\"Tile\\Tile_(nearby)_labeled_training.csv\",\n",
    "                ]\n",
    "\n",
    "unlabeledFiles = [r\"Tile\\Tile_(nearby)_3h.csv\"\n",
    "                  ]\n",
    "\n",
    "evaluationFiles = [r\"Tile\\Tile_(nearby)_labeled_evaluation.csv\"\n",
    "                   ]\n",
    "\n",
    "task_label_Tile_nearby_auto = nearbyTrackerTaskFactory(BaseConfig=NearbyTrackerConfig,\n",
    "                                                       labeledFiles=labeledFiles,\n",
    "                                                       unlabeledFiles= unlabeledFiles,\n",
    "                                                       evaluationFiles= evaluationFiles,\n",
    "                                                       firstDevice=label_Tile,\n",
    "                                                       secondDevice=label_iDevice,\n",
    "                                                       flags = flag_label_Tile_and_iDevice,\n",
    "                                                       threshold=0.9\n",
    "                                                        )\n",
    "\n",
    "taskGroup_Labeling_auto.add(task_label_Tile_nearby_auto)"
   ],
   "metadata": {
    "collapsed": false,
    "ExecuteTime": {
     "end_time": "2024-05-09T00:59:15.044849200Z",
     "start_time": "2024-05-09T00:58:54.140899600Z"
    }
   },
   "id": "1d5de66dac8d6b3b",
   "execution_count": 16
  },
  {
   "cell_type": "code",
   "outputs": [
    {
     "name": "stdout",
     "output_type": "stream",
     "text": [
      "End of iteration 1, added 225924 new labels.\n",
      "End of iteration 2, added 27925 new labels.\n",
      "End of iteration 3, added 3 new labels.\n",
      "\n",
      "\n",
      "Classification Report - Label AirPod and iDevice\n",
      "              precision    recall  f1-score   support\n",
      "\n",
      "      AirPod     0.9998    1.0000    0.9999      5143\n",
      "     iDevice     1.0000    0.9997    0.9999      3661\n",
      "\n",
      "    accuracy                         0.9999      8804\n",
      "   macro avg     0.9999    0.9999    0.9999      8804\n",
      "weighted avg     0.9999    0.9999    0.9999      8804\n"
     ]
    },
    {
     "data": {
      "text/plain": "<Figure size 1100x900 with 2 Axes>",
      "image/png": "[encoded data removed]"
     },
     "metadata": {},
     "output_type": "display_data"
    },
    {
     "data": {
      "text/plain": "<src.pre_processing.tasks.task_group.TaskGroup at 0x1a50a92ee70>"
     },
     "execution_count": 17,
     "metadata": {},
     "output_type": "execute_result"
    }
   ],
   "source": [
    "labeledFiles = [r\"AirPod\\AirPod_(nearby)_labeled_training.csv\",\n",
    "                ]\n",
    "\n",
    "unlabeledFiles = [r\"AirPod\\AirPod_(nearby)_3h.csv\"\n",
    "                  ]\n",
    "\n",
    "evaluationFiles = [r\"AirPod\\AirPod_(nearby)_labeled_evaluation.csv\"\n",
    "                   ]\n",
    "\n",
    "task_label_AirPod_nearby_auto = nearbyTrackerTaskFactory(BaseConfig=NearbyTrackerConfig,\n",
    "                                                         labeledFiles=labeledFiles,\n",
    "                                                         unlabeledFiles= unlabeledFiles,\n",
    "                                                         evaluationFiles= evaluationFiles,\n",
    "                                                         firstDevice=label_AirPod,\n",
    "                                                         secondDevice=label_iDevice,\n",
    "                                                         flags = flag_label_AirPod_and_iDevice,\n",
    "                                                         selection=slice(0, 50),\n",
    "                                                         threshold=0.8\n",
    "                                                         )\n",
    "\n",
    "taskGroup_Labeling_auto.add(task_label_AirPod_nearby_auto)"
   ],
   "metadata": {
    "collapsed": false,
    "ExecuteTime": {
     "end_time": "2024-05-09T01:00:14.732136700Z",
     "start_time": "2024-05-09T00:59:15.009656200Z"
    }
   },
   "id": "52b57f602f17e362",
   "execution_count": 17
  },
  {
   "cell_type": "code",
   "outputs": [
    {
     "name": "stdout",
     "output_type": "stream",
     "text": [
      "End of iteration 1, added 112749 new labels.\n",
      "End of iteration 2, added 3602 new labels.\n",
      "\n",
      "\n",
      "Classification Report - Label other Device and SmartTag\n",
      "              precision    recall  f1-score   support\n",
      "\n",
      "    SmartTag     1.0000    0.9934    0.9967       303\n",
      "other Device     0.9996    1.0000    0.9998      5413\n",
      "\n",
      "    accuracy                         0.9997      5716\n",
      "   macro avg     0.9998    0.9967    0.9983      5716\n",
      "weighted avg     0.9997    0.9997    0.9996      5716\n"
     ]
    },
    {
     "data": {
      "text/plain": "<Figure size 1100x900 with 2 Axes>",
      "image/png": "[encoded data removed]"
     },
     "metadata": {},
     "output_type": "display_data"
    },
    {
     "data": {
      "text/plain": "<src.pre_processing.tasks.task_group.TaskGroup at 0x1a50a92ee70>"
     },
     "execution_count": 18,
     "metadata": {},
     "output_type": "execute_result"
    }
   ],
   "source": [
    "labeledFiles = [r\"SmartTag\\SmartTag_(nearby)_labeled_training_V1.csv\",\n",
    "                r\"SmartTag\\SmartTag_(nearby)_labeled_training_V2.csv\",\n",
    "                r\"SmartTag\\SmartTag_(nearby)_labeled_training_V3.csv\"\n",
    "                ]\n",
    "\n",
    "unlabeledFiles = [r\"SmartTag\\SmartTag_(nearby)_3h.csv\"\n",
    "]\n",
    "\n",
    "evaluationFiles = [r\"SmartTag\\SmartTag_(nearby)_labeled_evaluation_V1.csv\",\n",
    "                   r\"SmartTag\\SmartTag_(nearby)_labeled_evaluation_V2.csv\",\n",
    "                   r\"SmartTag\\SmartTag_(nearby)_labeled_evaluation_V3.csv\"\n",
    "                   ]\n",
    "\n",
    "task_label_SmartTag_nearby_auto = nearbyTrackerTaskFactory(BaseConfig=NearbyTrackerConfig,\n",
    "                                                           labeledFiles=labeledFiles,\n",
    "                                                           unlabeledFiles=unlabeledFiles,\n",
    "                                                           evaluationFiles=evaluationFiles,\n",
    "                                                           firstDevice=label_other_Device,\n",
    "                                                           secondDevice=label_SmartTag,\n",
    "                                                           flags=flag_label_SmartTag_and_Other, \n",
    "                                                           threshold=0.6\n",
    "                                                         )\n",
    "\n",
    "taskGroup_Labeling_auto.add(task_label_SmartTag_nearby_auto)"
   ],
   "metadata": {
    "collapsed": false,
    "ExecuteTime": {
     "end_time": "2024-05-09T01:00:44.971778600Z",
     "start_time": "2024-05-09T01:00:14.730136600Z"
    }
   },
   "id": "bb88c527205ab89e",
   "execution_count": 18
  },
  {
   "cell_type": "code",
   "execution_count": 19,
   "id": "206515b8aa4106a0",
   "metadata": {
    "collapsed": false,
    "ExecuteTime": {
     "end_time": "2024-05-09T01:00:45.076647900Z",
     "start_time": "2024-05-09T01:00:44.972779Z"
    }
   },
   "outputs": [
    {
     "name": "stdout",
     "output_type": "stream",
     "text": [
      "Modeling Pipeline\n",
      "\t10 Pre Processing\n",
      "\t\t10 Select and order columns\n",
      "\t\t20 Company ID and UUID\n",
      "\t\t\t10 Fill Company ID with None\n",
      "\t\t\t20 Fill UUID with None\n",
      "\t\t\t30 Replace Company IDs\n",
      "\t\t\t40 Replace Company UUIDs\n",
      "\t\t30 MS Data Processing\n",
      "\t\t\t10 Fill MS Data with empty String\n",
      "\t\t\t20 Length of MS Data\n",
      "\t\t\t30 Continuity Type\n",
      "\t\t\t40 Drop MS Data Column\n",
      "\t\t40 Service Data Processing\n",
      "\t\t\t10 Fill Service Data with empty String\n",
      "\t\t\t20 Length of Service Data\n",
      "\t\t\t30 Samsung Type\n",
      "\t\t\t40 Drop Service Data Column\n",
      "\t\t50 Fill Numeric NA with 0\n",
      "\t\t60 Fill String NA with None\n",
      "\t\t70 Datetime conversion\n",
      "\t\t80 Clean PDU\n",
      "\t\t90 Order DataFrame\n",
      "\t\t100 Convert object type to string\n",
      "\t20 Dummy Processing\n",
      "\t\t10 Dummies Channel\n",
      "\t\t20 Dummies AD Type\n",
      "\t\t30 Dummies Company\n",
      "\t\t40 Dummies UUID\n",
      "\t\t50 Dummies PDU Type\n",
      "\t\t60 Dummies Continuity Type\n",
      "\t\t70 Dummies SmartTag Type\n",
      "\t30 Labeling\n",
      "\t\t10 Labeling auto\n",
      "\t\t\tLabel FindMy Tracker and iDevice\n",
      "\t\t\tLabel Tile and iDevice\n",
      "\t\t\tLabel AirPod and iDevice\n",
      "\t\t\tLabel other Device and SmartTag\n",
      "\t\t20 Labeling manual\n",
      "\t\t\tLabel FindMy Tracker\n",
      "\t\t\tLabel iDevice\n",
      "\t\t\tLabel SmartTag\n",
      "\t\t\tLabel Tile\n",
      "\t\t\tLabel other Device\n",
      "\t\t\tLabel AirPod\n",
      "\t\t\tLabel -1\n",
      "\t60 Modeling\n",
      "\t\t0 Drop Column Continuity\n",
      "\t\t10 Rate Modeling\n",
      "\t\t20 Drop Columns\n"
     ]
    }
   ],
   "source": [
    "for label in labels_devices:\n",
    "    task =  Task(\"Label \" + str(label), executor = ex.labeling(label = label), flags = label_flag_lut[label])\n",
    "    taskGroup_Labeling_manual.add(task)\n",
    "\n",
    "taskGroup_Labeling.add(taskGroup_Labeling_manual)\n",
    "taskGroup_Labeling.add(taskGroup_Labeling_auto)\n",
    "\n",
    "modelingPipeline.add(taskGroup_Labeling)\n",
    "modelingPipeline.print(priority=True)"
   ]
  },
  {
   "cell_type": "code",
   "execution_count": 20,
   "id": "d5ae1be68ea271c1",
   "metadata": {
    "collapsed": false,
    "ExecuteTime": {
     "end_time": "2024-05-09T01:00:45.077647700Z",
     "start_time": "2024-05-09T01:00:44.978827600Z"
    }
   },
   "outputs": [
    {
     "name": "stdout",
     "output_type": "stream",
     "text": [
      "40 States: States\n",
      "\t10 State Column\n",
      "\t20 States iDevices: States iDevices\n",
      "\t\tContinuity\n",
      "\t30 States Trackers: States Tracker\n",
      "\t\tlost: State lost\n",
      "\t\tnearby: State nearby\n",
      "\t\tunpaired: State unpaired\n",
      "\tCollapse State Column\n"
     ]
    }
   ],
   "source": [
    "stateColumn = 'State'\n",
    "\n",
    "taskGroup_states = TaskGroup(\"States\", priority=40, idempotency=True, flags = flag_states)\n",
    "\n",
    "task_stateColumn = Task(\"State Column\", executor = ex.instantiateStateColumn(stateColumn = stateColumn), priority=10) \n",
    "task_collapseStateColumn = Task(\"Collapse State Column\", executor = ex.collapseStateColumn(stateColumn = stateColumn))\n",
    "\n",
    "taskGroup_states_iDevices =  TaskGroup(\"States iDevices\", priority=20, idempotency=True, flags = flag_states_iDevices)\n",
    "\n",
    "task_findMy = Task(\"Continuity\", executor = ex.addStateContinuityType(labelColumn=\"Label\",\n",
    "                                                                     typeColumn=\"Continuity Type\",\n",
    "                                                                     types = ['12'],\n",
    "                                                                     MS_DataColumn_Length= 'Length MS Data',\n",
    "                                                                     strike = 100,\n",
    "                                                                     seperator=' ',\n",
    "                                                                     stateColumn='State',\n",
    "                                                                     labels=labels_iDevices)\n",
    "                      )\n",
    "\n",
    "\n",
    "\n",
    "taskGroup_states_iDevices.addAll([task_findMy])\n",
    "\n",
    "taskGroup_states_Trackers =  TaskGroup(\"States Trackers\", priority=30, idempotency=True, flags = flag_states_Tracker)\n",
    "\n",
    "task_lost =  Task(\"lost\", executor= ex.addState(stateColumn=stateColumn, stateLabel=\"(lost)\", labels = labels_trackers), flags = flag_state_lost)\n",
    "task_nearby =  Task(\"nearby\", executor= ex.addState(stateColumn=stateColumn, stateLabel=\"(nearby)\",  labels = labels_trackers), flags = flag_state_nearby)\n",
    "task_unpaired = Task(\"unpaired\", executor= ex.addState(stateColumn=stateColumn, stateLabel=\"(unpaired)\", labels = labels_trackers), flags = flag_state_unpaired)\n",
    "\n",
    "taskGroup_states_Trackers.addAll([task_lost, task_nearby, task_unpaired])\n",
    "\n",
    "taskGroup_states.addAll([task_stateColumn, task_collapseStateColumn, taskGroup_states_iDevices, taskGroup_states_Trackers])\n",
    "\n",
    "taskGroup_states.print(priority=True, flags = True)"
   ]
  },
  {
   "cell_type": "code",
   "outputs": [
    {
     "data": {
      "text/plain": "<src.pre_processing.tasks.task_group.TaskGroup at 0x1a557b9f410>"
     },
     "execution_count": 21,
     "metadata": {},
     "output_type": "execute_result"
    }
   ],
   "source": [
    "flag_dropLabels = Flag(\"Drop Labels\")\n",
    "flag_drop_label_iDevice = Flag(\"Drop iDevice\", parents=flag_dropLabels)\n",
    "flag_drop_label_other_Device = Flag(\"Drop other Device\", parents=flag_dropLabels)\n",
    "flag_drop_label_iDevice_FindMy = Flag(\"Drop iDevice FindMy\", parents=flag_dropLabels)\n",
    "\n",
    "flags.extend([flag_dropLabels, flag_drop_label_iDevice, flag_drop_label_other_Device, flag_drop_label_iDevice_FindMy])\n",
    "\n",
    "taskGroup_DropLabels = TaskGroup(\"Drop Labels\", flags = flag_dropLabels, idempotency=True, priority=50)\n",
    "\n",
    "task_drop_label_iDevice = Task(\"Drop iDevice\", executor= ex.dropLabels(labelColumn=\"Label\", labels = labels_iDevices), flags = flag_drop_label_iDevice)\n",
    "task_drop_label_otherDevice = Task(\"Drop other Device\", executor= ex.dropLabels(labelColumn=\"Label\", labels = [label_other_Device]), flags = flag_drop_label_other_Device)\n",
    "\n",
    "online = [i +  ' ' +'FindMy online' for i in labels_iDevices]\n",
    "offline = [i + ' ' + 'FindMy offline' for i in labels_iDevices]\n",
    "    \n",
    "task_drop_label_iDevice_FindMy= Task(\"Drop iDevice FindMy\", executor= ex.dropLabels(labelColumn=\"Label\", labels = online + offline), flags = flag_drop_label_iDevice_FindMy)\n",
    "\n",
    "taskGroup_DropLabels.addAll([task_drop_label_iDevice, task_drop_label_otherDevice, task_drop_label_iDevice_FindMy])\n",
    "\n",
    "modelingPipeline.add(taskGroup_DropLabels)"
   ],
   "metadata": {
    "collapsed": false,
    "ExecuteTime": {
     "end_time": "2024-05-09T01:00:45.078646800Z",
     "start_time": "2024-05-09T01:00:44.984274800Z"
    }
   },
   "id": "ad47c4326c0b4c95",
   "execution_count": 21
  },
  {
   "cell_type": "code",
   "outputs": [
    {
     "name": "stdout",
     "output_type": "stream",
     "text": [
      "Modeling Pipeline\n",
      "\t10 Pre Processing: Pre Processing\n",
      "\t\t10 Select and order columns\n",
      "\t\t20 Company ID and UUID\n",
      "\t\t\t10 Fill Company ID with None\n",
      "\t\t\t20 Fill UUID with None\n",
      "\t\t\t30 Replace Company IDs\n",
      "\t\t\t40 Replace Company UUIDs\n",
      "\t\t30 MS Data Processing\n",
      "\t\t\t10 Fill MS Data with empty String\n",
      "\t\t\t20 Length of MS Data\n",
      "\t\t\t30 Continuity Type\n",
      "\t\t\t40 Drop MS Data Column\n",
      "\t\t40 Service Data Processing\n",
      "\t\t\t10 Fill Service Data with empty String\n",
      "\t\t\t20 Length of Service Data\n",
      "\t\t\t30 Samsung Type\n",
      "\t\t\t40 Drop Service Data Column\n",
      "\t\t50 Fill Numeric NA with 0\n",
      "\t\t60 Fill String NA with None\n",
      "\t\t70 Datetime conversion\n",
      "\t\t80 Clean PDU\n",
      "\t\t90 Order DataFrame\n",
      "\t\t100 Convert object type to string\n",
      "\t20 Dummy Processing: Dummy Processing\n",
      "\t\t10 Dummies Channel\n",
      "\t\t20 Dummies AD Type\n",
      "\t\t30 Dummies Company\n",
      "\t\t40 Dummies UUID\n",
      "\t\t50 Dummies PDU Type\n",
      "\t\t60 Dummies Continuity Type\n",
      "\t\t70 Dummies SmartTag Type\n",
      "\t30 Labeling: Labeling\n",
      "\t\t10 Labeling auto: Labeling auto\n",
      "\t\t\tLabel FindMy Tracker and iDevice: Label FindMy Tracker and iDevice\n",
      "\t\t\tLabel Tile and iDevice: Label Tile and iDevice\n",
      "\t\t\tLabel AirPod and iDevice: Label AirPod and iDevice\n",
      "\t\t\tLabel other Device and SmartTag: Label SmartTag and Other\n",
      "\t\t20 Labeling manual: Labeling manual\n",
      "\t\t\tLabel FindMy Tracker: Label FindMy Tracker\n",
      "\t\t\tLabel iDevice: Label iDevice\n",
      "\t\t\tLabel SmartTag: Label SmartTag\n",
      "\t\t\tLabel Tile: Label Tile\n",
      "\t\t\tLabel other Device: Label other Device\n",
      "\t\t\tLabel AirPod: Label AirPod\n",
      "\t\t\tLabel -1: Label Unknown\n",
      "\t40 States: States\n",
      "\t\t10 State Column\n",
      "\t\t20 States iDevices: States iDevices\n",
      "\t\t\tContinuity\n",
      "\t\t30 States Trackers: States Tracker\n",
      "\t\t\tlost: State lost\n",
      "\t\t\tnearby: State nearby\n",
      "\t\t\tunpaired: State unpaired\n",
      "\t\tCollapse State Column\n",
      "\t50 Drop Labels: Drop Labels\n",
      "\t\tDrop iDevice: Drop iDevice\n",
      "\t\tDrop other Device: Drop other Device\n",
      "\t\tDrop iDevice FindMy: Drop iDevice FindMy\n",
      "\t60 Modeling: Modeling\n",
      "\t\t0 Drop Column Continuity\n",
      "\t\t10 Rate Modeling: Rate Modeling\n",
      "\t\t20 Drop Columns: Drop Columns\n"
     ]
    }
   ],
   "source": [
    "modelingPipeline.add(taskGroup_states)\n",
    "modelingPipeline.print(priority=True, flags = True)"
   ],
   "metadata": {
    "collapsed": false,
    "ExecuteTime": {
     "end_time": "2024-05-09T01:00:45.078646800Z",
     "start_time": "2024-05-09T01:00:44.988014700Z"
    }
   },
   "id": "b5a7ce8047f9596a",
   "execution_count": 22
  },
  {
   "cell_type": "code",
   "execution_count": 23,
   "id": "cbd61481bd969391",
   "metadata": {
    "collapsed": false,
    "ExecuteTime": {
     "end_time": "2024-05-09T01:00:45.145247500Z",
     "start_time": "2024-05-09T01:00:44.992526300Z"
    }
   },
   "outputs": [],
   "source": [
    "import pickle\n",
    "\n",
    "with open(picklePath + modelingPipeline.getName() + '.pickle', 'wb') as f:\n",
    "    pickle.dump(modelingPipeline, f)"
   ]
  },
  {
   "cell_type": "code",
   "execution_count": 24,
   "id": "7499f81a396cd040",
   "metadata": {
    "collapsed": false,
    "ExecuteTime": {
     "end_time": "2024-05-09T01:00:45.145247500Z",
     "start_time": "2024-05-09T01:00:45.125692500Z"
    }
   },
   "outputs": [],
   "source": [
    "flags = list(set(flags))\n",
    "\n",
    "for flag in flags:\n",
    "    with open(picklePath  + flag.getName() + '.pickle', 'wb') as f:\n",
    "        pickle.dump(flag, f)\n"
   ]
  },
  {
   "cell_type": "code",
   "execution_count": 25,
   "id": "6678dafd6e795317",
   "metadata": {
    "collapsed": false,
    "ExecuteTime": {
     "end_time": "2024-05-09T01:00:58.342426600Z",
     "start_time": "2024-05-09T01:00:45.125692500Z"
    }
   },
   "outputs": [
    {
     "name": "stdout",
     "output_type": "stream",
     "text": [
      "<class 'pandas.core.frame.DataFrame'>\n",
      "RangeIndex: 4492 entries, 0 to 4491\n",
      "Data columns (total 32 columns):\n",
      " #   Column                                      Non-Null Count  Dtype         \n",
      "---  ------                                      --------------  -----         \n",
      " 0   Time                                        4492 non-null   datetime64[ns]\n",
      " 1   Source                                      4492 non-null   string        \n",
      " 2   Length Packet                               4492 non-null   float64       \n",
      " 3   Length Header                               4492 non-null   float64       \n",
      " 4   Length MS Data                              4492 non-null   float64       \n",
      " 5   Length Service Data                         4492 non-null   float64       \n",
      " 6   CH 37                                       4492 non-null   float64       \n",
      " 7   CH 38                                       4492 non-null   float64       \n",
      " 8   CH 39                                       4492 non-null   float64       \n",
      " 9   AD Manufacturer Specific                    4492 non-null   float64       \n",
      " 10  AD Flags                                    4492 non-null   float64       \n",
      " 11  AD Tx Power Level                           4492 non-null   float64       \n",
      " 12  AD Service Data - 16 bit UUID               4492 non-null   float64       \n",
      " 13  AD 16-bit Service Class UUIDs               4492 non-null   float64       \n",
      " 14  AD 16-bit Service Class UUIDs (incomplete)  4492 non-null   float64       \n",
      " 15  AD Other                                    4492 non-null   float64       \n",
      " 16  COMP Apple                                  4492 non-null   float64       \n",
      " 17  COMP Other                                  4492 non-null   float64       \n",
      " 18  UUID Samsung                                4492 non-null   float64       \n",
      " 19  UUID Tile                                   4492 non-null   float64       \n",
      " 20  UUID Other                                  4492 non-null   float64       \n",
      " 21  PDU ADV_IND                                 4492 non-null   float64       \n",
      " 22  PDU ADV_NONCONN_IND                         4492 non-null   float64       \n",
      " 23  PDU ADV_SCAN_IND                            4492 non-null   float64       \n",
      " 24  PDU Other                                   4492 non-null   float64       \n",
      " 25  CT 07                                       4492 non-null   float64       \n",
      " 26  CT 12                                       4492 non-null   float64       \n",
      " 27  CT Other                                    4492 non-null   float64       \n",
      " 28  ST 3                                        4492 non-null   float64       \n",
      " 29  ST 5                                        4492 non-null   float64       \n",
      " 30  ST Other                                    4492 non-null   float64       \n",
      " 31  Label                                       4492 non-null   object        \n",
      "dtypes: datetime64[ns](1), float64(29), object(1), string(1)\n",
      "memory usage: 1.1+ MB\n"
     ]
    }
   ],
   "source": [
    "temp = modelingPipeline.process(data.copy(deep=True), flag = Flag(name = 'Run', parents = [flag_preProcessing, flag_dummy, flag_label_FindMy_Tracker_and_iDevice, flag_state_nearby, flag_drop_label_iDevice, flag_rateModeling]))\n",
    "temp.info()"
   ]
  },
  {
   "cell_type": "code",
   "outputs": [
    {
     "data": {
      "text/plain": "                    Time             Source  Length Packet  Length Header  \\\n0    2024-04-11 19:18:30  11:71:9c:21:07:06            4.0            1.4   \n1    2024-04-12 01:25:00  37:c8:8a:a3:20:2b            4.0            1.4   \n2    2024-04-11 23:11:50  50:8a:8b:66:c8:a1            4.0            1.4   \n3    2024-04-11 15:19:20  55:34:9e:b3:f8:b5            4.0            1.4   \n4    2024-04-11 18:32:20  59:4b:dd:b7:75:35            4.0            1.4   \n...                  ...                ...            ...            ...   \n4487 2024-04-11 18:14:10  fa:3c:62:b1:fe:a8           60.0           21.0   \n4488 2024-04-11 18:14:20  fa:3c:62:b1:fe:a8           60.0           21.0   \n4489 2024-04-11 18:14:30  fa:3c:62:b1:fe:a8           60.0           21.0   \n4490 2024-04-11 18:14:40  fa:3c:62:b1:fe:a8           60.0           21.0   \n4491 2024-04-11 18:14:50  fa:3c:62:b1:fe:a8           60.0           21.0   \n\n      Length MS Data  Length Service Data  CH 37  CH 38  CH 39  \\\n0                0.0                  0.0    0.0    0.0    0.1   \n1                0.0                  0.0    0.0    0.0    0.1   \n2                0.0                  0.0    0.0    0.1    0.0   \n3                0.0                  0.0    0.0    0.1    0.0   \n4                0.0                  0.0    0.0    0.1    0.0   \n...              ...                  ...    ...    ...    ...   \n4487            48.0                  0.0    0.5    0.5    0.5   \n4488            48.0                  0.0    0.5    0.5    0.5   \n4489            48.0                  0.0    0.5    0.5    0.5   \n4490            48.0                  0.0    0.5    0.5    0.5   \n4491            48.0                  0.0    0.5    0.5    0.5   \n\n      AD Manufacturer Specific  ...  PDU ADV_NONCONN_IND  PDU ADV_SCAN_IND  \\\n0                          0.0  ...                  0.0               0.0   \n1                          0.0  ...                  0.0               0.0   \n2                          0.0  ...                  0.0               0.0   \n3                          0.0  ...                  0.0               0.0   \n4                          0.0  ...                  0.0               0.0   \n...                        ...  ...                  ...               ...   \n4487                       1.5  ...                  0.0               0.0   \n4488                       1.5  ...                  0.0               0.0   \n4489                       1.5  ...                  0.0               0.0   \n4490                       1.5  ...                  0.0               0.0   \n4491                       1.5  ...                  0.0               0.0   \n\n      PDU Other  CT 07  CT 12  CT Other  ST 3  ST 5  ST Other  \\\n0           0.0    0.0    0.0       0.0   0.0   0.0       0.0   \n1           0.0    0.0    0.0       0.0   0.0   0.0       0.0   \n2           0.0    0.0    0.0       0.0   0.0   0.0       0.0   \n3           0.0    0.0    0.0       0.0   0.0   0.0       0.0   \n4           0.0    0.0    0.0       0.0   0.0   0.0       0.0   \n...         ...    ...    ...       ...   ...   ...       ...   \n4487        0.0    0.0    1.5       0.0   0.0   0.0       0.0   \n4488        0.0    0.0    1.5       0.0   0.0   0.0       0.0   \n4489        0.0    0.0    1.5       0.0   0.0   0.0       0.0   \n4490        0.0    0.0    1.5       0.0   0.0   0.0       0.0   \n4491        0.0    0.0    1.5       0.0   0.0   0.0       0.0   \n\n                        Label  \n0     FindMy Tracker (nearby)  \n1     FindMy Tracker (nearby)  \n2     FindMy Tracker (nearby)  \n3     FindMy Tracker (nearby)  \n4     FindMy Tracker (nearby)  \n...                       ...  \n4487  FindMy Tracker (nearby)  \n4488  FindMy Tracker (nearby)  \n4489  FindMy Tracker (nearby)  \n4490  FindMy Tracker (nearby)  \n4491  FindMy Tracker (nearby)  \n\n[4492 rows x 32 columns]",
      "text/html": "<div>\n<style scoped>\n    .dataframe tbody tr th:only-of-type {\n        vertical-align: middle;\n    }\n\n    .dataframe tbody tr th {\n        vertical-align: top;\n    }\n\n    .dataframe thead th {\n        text-align: right;\n    }\n</style>\n<table border=\"1\" class=\"dataframe\">\n  <thead>\n    <tr style=\"text-align: right;\">\n      <th></th>\n      <th>Time</th>\n      <th>Source</th>\n      <th>Length Packet</th>\n      <th>Length Header</th>\n      <th>Length MS Data</th>\n      <th>Length Service Data</th>\n      <th>CH 37</th>\n      <th>CH 38</th>\n      <th>CH 39</th>\n      <th>AD Manufacturer Specific</th>\n      <th>...</th>\n      <th>PDU ADV_NONCONN_IND</th>\n      <th>PDU ADV_SCAN_IND</th>\n      <th>PDU Other</th>\n      <th>CT 07</th>\n      <th>CT 12</th>\n      <th>CT Other</th>\n      <th>ST 3</th>\n      <th>ST 5</th>\n      <th>ST Other</th>\n      <th>Label</th>\n    </tr>\n  </thead>\n  <tbody>\n    <tr>\n      <th>0</th>\n      <td>2024-04-11 19:18:30</td>\n      <td>11:71:9c:21:07:06</td>\n      <td>4.0</td>\n      <td>1.4</td>\n      <td>0.0</td>\n      <td>0.0</td>\n      <td>0.0</td>\n      <td>0.0</td>\n      <td>0.1</td>\n      <td>0.0</td>\n      <td>...</td>\n      <td>0.0</td>\n      <td>0.0</td>\n      <td>0.0</td>\n      <td>0.0</td>\n      <td>0.0</td>\n      <td>0.0</td>\n      <td>0.0</td>\n      <td>0.0</td>\n      <td>0.0</td>\n      <td>FindMy Tracker (nearby)</td>\n    </tr>\n    <tr>\n      <th>1</th>\n      <td>2024-04-12 01:25:00</td>\n      <td>37:c8:8a:a3:20:2b</td>\n      <td>4.0</td>\n      <td>1.4</td>\n      <td>0.0</td>\n      <td>0.0</td>\n      <td>0.0</td>\n      <td>0.0</td>\n      <td>0.1</td>\n      <td>0.0</td>\n      <td>...</td>\n      <td>0.0</td>\n      <td>0.0</td>\n      <td>0.0</td>\n      <td>0.0</td>\n      <td>0.0</td>\n      <td>0.0</td>\n      <td>0.0</td>\n      <td>0.0</td>\n      <td>0.0</td>\n      <td>FindMy Tracker (nearby)</td>\n    </tr>\n    <tr>\n      <th>2</th>\n      <td>2024-04-11 23:11:50</td>\n      <td>50:8a:8b:66:c8:a1</td>\n      <td>4.0</td>\n      <td>1.4</td>\n      <td>0.0</td>\n      <td>0.0</td>\n      <td>0.0</td>\n      <td>0.1</td>\n      <td>0.0</td>\n      <td>0.0</td>\n      <td>...</td>\n      <td>0.0</td>\n      <td>0.0</td>\n      <td>0.0</td>\n      <td>0.0</td>\n      <td>0.0</td>\n      <td>0.0</td>\n      <td>0.0</td>\n      <td>0.0</td>\n      <td>0.0</td>\n      <td>FindMy Tracker (nearby)</td>\n    </tr>\n    <tr>\n      <th>3</th>\n      <td>2024-04-11 15:19:20</td>\n      <td>55:34:9e:b3:f8:b5</td>\n      <td>4.0</td>\n      <td>1.4</td>\n      <td>0.0</td>\n      <td>0.0</td>\n      <td>0.0</td>\n      <td>0.1</td>\n      <td>0.0</td>\n      <td>0.0</td>\n      <td>...</td>\n      <td>0.0</td>\n      <td>0.0</td>\n      <td>0.0</td>\n      <td>0.0</td>\n      <td>0.0</td>\n      <td>0.0</td>\n      <td>0.0</td>\n      <td>0.0</td>\n      <td>0.0</td>\n      <td>FindMy Tracker (nearby)</td>\n    </tr>\n    <tr>\n      <th>4</th>\n      <td>2024-04-11 18:32:20</td>\n      <td>59:4b:dd:b7:75:35</td>\n      <td>4.0</td>\n      <td>1.4</td>\n      <td>0.0</td>\n      <td>0.0</td>\n      <td>0.0</td>\n      <td>0.1</td>\n      <td>0.0</td>\n      <td>0.0</td>\n      <td>...</td>\n      <td>0.0</td>\n      <td>0.0</td>\n      <td>0.0</td>\n      <td>0.0</td>\n      <td>0.0</td>\n      <td>0.0</td>\n      <td>0.0</td>\n      <td>0.0</td>\n      <td>0.0</td>\n      <td>FindMy Tracker (nearby)</td>\n    </tr>\n    <tr>\n      <th>...</th>\n      <td>...</td>\n      <td>...</td>\n      <td>...</td>\n      <td>...</td>\n      <td>...</td>\n      <td>...</td>\n      <td>...</td>\n      <td>...</td>\n      <td>...</td>\n      <td>...</td>\n      <td>...</td>\n      <td>...</td>\n      <td>...</td>\n      <td>...</td>\n      <td>...</td>\n      <td>...</td>\n      <td>...</td>\n      <td>...</td>\n      <td>...</td>\n      <td>...</td>\n      <td>...</td>\n    </tr>\n    <tr>\n      <th>4487</th>\n      <td>2024-04-11 18:14:10</td>\n      <td>fa:3c:62:b1:fe:a8</td>\n      <td>60.0</td>\n      <td>21.0</td>\n      <td>48.0</td>\n      <td>0.0</td>\n      <td>0.5</td>\n      <td>0.5</td>\n      <td>0.5</td>\n      <td>1.5</td>\n      <td>...</td>\n      <td>0.0</td>\n      <td>0.0</td>\n      <td>0.0</td>\n      <td>0.0</td>\n      <td>1.5</td>\n      <td>0.0</td>\n      <td>0.0</td>\n      <td>0.0</td>\n      <td>0.0</td>\n      <td>FindMy Tracker (nearby)</td>\n    </tr>\n    <tr>\n      <th>4488</th>\n      <td>2024-04-11 18:14:20</td>\n      <td>fa:3c:62:b1:fe:a8</td>\n      <td>60.0</td>\n      <td>21.0</td>\n      <td>48.0</td>\n      <td>0.0</td>\n      <td>0.5</td>\n      <td>0.5</td>\n      <td>0.5</td>\n      <td>1.5</td>\n      <td>...</td>\n      <td>0.0</td>\n      <td>0.0</td>\n      <td>0.0</td>\n      <td>0.0</td>\n      <td>1.5</td>\n      <td>0.0</td>\n      <td>0.0</td>\n      <td>0.0</td>\n      <td>0.0</td>\n      <td>FindMy Tracker (nearby)</td>\n    </tr>\n    <tr>\n      <th>4489</th>\n      <td>2024-04-11 18:14:30</td>\n      <td>fa:3c:62:b1:fe:a8</td>\n      <td>60.0</td>\n      <td>21.0</td>\n      <td>48.0</td>\n      <td>0.0</td>\n      <td>0.5</td>\n      <td>0.5</td>\n      <td>0.5</td>\n      <td>1.5</td>\n      <td>...</td>\n      <td>0.0</td>\n      <td>0.0</td>\n      <td>0.0</td>\n      <td>0.0</td>\n      <td>1.5</td>\n      <td>0.0</td>\n      <td>0.0</td>\n      <td>0.0</td>\n      <td>0.0</td>\n      <td>FindMy Tracker (nearby)</td>\n    </tr>\n    <tr>\n      <th>4490</th>\n      <td>2024-04-11 18:14:40</td>\n      <td>fa:3c:62:b1:fe:a8</td>\n      <td>60.0</td>\n      <td>21.0</td>\n      <td>48.0</td>\n      <td>0.0</td>\n      <td>0.5</td>\n      <td>0.5</td>\n      <td>0.5</td>\n      <td>1.5</td>\n      <td>...</td>\n      <td>0.0</td>\n      <td>0.0</td>\n      <td>0.0</td>\n      <td>0.0</td>\n      <td>1.5</td>\n      <td>0.0</td>\n      <td>0.0</td>\n      <td>0.0</td>\n      <td>0.0</td>\n      <td>FindMy Tracker (nearby)</td>\n    </tr>\n    <tr>\n      <th>4491</th>\n      <td>2024-04-11 18:14:50</td>\n      <td>fa:3c:62:b1:fe:a8</td>\n      <td>60.0</td>\n      <td>21.0</td>\n      <td>48.0</td>\n      <td>0.0</td>\n      <td>0.5</td>\n      <td>0.5</td>\n      <td>0.5</td>\n      <td>1.5</td>\n      <td>...</td>\n      <td>0.0</td>\n      <td>0.0</td>\n      <td>0.0</td>\n      <td>0.0</td>\n      <td>1.5</td>\n      <td>0.0</td>\n      <td>0.0</td>\n      <td>0.0</td>\n      <td>0.0</td>\n      <td>FindMy Tracker (nearby)</td>\n    </tr>\n  </tbody>\n</table>\n<p>4492 rows × 32 columns</p>\n</div>"
     },
     "execution_count": 26,
     "metadata": {},
     "output_type": "execute_result"
    }
   ],
   "source": [
    "temp"
   ],
   "metadata": {
    "collapsed": false,
    "ExecuteTime": {
     "end_time": "2024-05-09T01:00:58.360173700Z",
     "start_time": "2024-05-09T01:00:58.343935700Z"
    }
   },
   "id": "f11c4ebaf8df1ac0",
   "execution_count": 26
  },
  {
   "cell_type": "code",
   "outputs": [],
   "source": [
    "file = r\"AirPod\\AirPod_(lost).csv\"\n",
    "data = pd.read_csv(dataPath + file, encoding = 'cp1252')"
   ],
   "metadata": {
    "collapsed": false,
    "ExecuteTime": {
     "end_time": "2024-05-09T01:00:59.309891600Z",
     "start_time": "2024-05-09T01:00:58.361174100Z"
    }
   },
   "id": "38eed761fd03e14c",
   "execution_count": 27
  },
  {
   "cell_type": "code",
   "outputs": [
    {
     "name": "stdout",
     "output_type": "stream",
     "text": [
      "<class 'pandas.core.frame.DataFrame'>\n",
      "Index: 693257 entries, 0 to 758102\n",
      "Data columns (total 33 columns):\n",
      " #   Column                                      Non-Null Count   Dtype         \n",
      "---  ------                                      --------------   -----         \n",
      " 0   Time                                        693257 non-null  datetime64[ns]\n",
      " 1   Source                                      693257 non-null  string        \n",
      " 2   Length Packet                               693257 non-null  int64         \n",
      " 3   Length Header                               693257 non-null  int64         \n",
      " 4   Length MS Data                              693257 non-null  int32         \n",
      " 5   Continuity Type                             693257 non-null  string        \n",
      " 6   Length Service Data                         693257 non-null  int32         \n",
      " 7   CH 37                                       693257 non-null  int32         \n",
      " 8   CH 38                                       693257 non-null  int32         \n",
      " 9   CH 39                                       693257 non-null  int32         \n",
      " 10  AD Manufacturer Specific                    693257 non-null  int32         \n",
      " 11  AD Flags                                    693257 non-null  int64         \n",
      " 12  AD Tx Power Level                           693257 non-null  int64         \n",
      " 13  AD Service Data - 16 bit UUID               693257 non-null  int64         \n",
      " 14  AD 16-bit Service Class UUIDs               693257 non-null  int64         \n",
      " 15  AD 16-bit Service Class UUIDs (incomplete)  693257 non-null  int64         \n",
      " 16  AD Other                                    693257 non-null  int64         \n",
      " 17  COMP Apple                                  693257 non-null  int32         \n",
      " 18  COMP Other                                  693257 non-null  int64         \n",
      " 19  UUID Samsung                                693257 non-null  int64         \n",
      " 20  UUID Tile                                   693257 non-null  int64         \n",
      " 21  UUID Other                                  693257 non-null  int64         \n",
      " 22  PDU ADV_IND                                 693257 non-null  int32         \n",
      " 23  PDU ADV_NONCONN_IND                         693257 non-null  int64         \n",
      " 24  PDU ADV_SCAN_IND                            693257 non-null  int32         \n",
      " 25  PDU Other                                   693257 non-null  int64         \n",
      " 26  CT 07                                       693257 non-null  int32         \n",
      " 27  CT 12                                       693257 non-null  int32         \n",
      " 28  CT Other                                    693257 non-null  int64         \n",
      " 29  ST 3                                        693257 non-null  int64         \n",
      " 30  ST 5                                        693257 non-null  int64         \n",
      " 31  ST Other                                    693257 non-null  int64         \n",
      " 32  Label                                       693257 non-null  string        \n",
      "dtypes: datetime64[ns](1), int32(11), int64(18), string(3)\n",
      "memory usage: 150.7 MB\n"
     ]
    }
   ],
   "source": [
    "temp = modelingPipeline.process(data.copy(deep=True), flag = Flag(name = 'Run', parents = [flag_preProcessing, flag_dummy, flag_label_iDevice, flag_states_iDevices, flag_drop_label_iDevice_FindMy]))\n",
    "temp.info()"
   ],
   "metadata": {
    "collapsed": false,
    "ExecuteTime": {
     "end_time": "2024-05-09T01:01:14.373853600Z",
     "start_time": "2024-05-09T01:00:59.310893100Z"
    }
   },
   "id": "dd19ede7a53486c9",
   "execution_count": 28
  },
  {
   "cell_type": "code",
   "outputs": [
    {
     "data": {
      "text/plain": "                                Time             Source  Length Packet  \\\n0      2024-04-08 19:26:59.144404888  78:ea:09:76:df:94             63   \n25     2024-04-08 19:26:59.144404888  78:ea:09:76:df:94             63   \n24     2024-04-08 19:26:59.144404888  78:ea:09:76:df:94             63   \n23     2024-04-08 19:26:59.144404888  78:ea:09:76:df:94             63   \n22     2024-04-08 19:26:59.144404888  78:ea:09:76:df:94             63   \n...                              ...                ...            ...   \n758098 2024-04-09 07:26:59.177983046  59:26:06:5a:44:14             63   \n758099 2024-04-09 07:26:59.178862095  59:26:06:5a:44:14             63   \n758100 2024-04-09 07:26:59.359599113  59:26:06:5a:44:14             63   \n758101 2024-04-09 07:26:59.360476971  59:26:06:5a:44:14             63   \n758102 2024-04-09 07:26:59.361355066  59:26:06:5a:44:14             63   \n\n        Length Header  Length MS Data Continuity Type  Length Service Data  \\\n0                  37             216              07                    0   \n25                 37             216              07                    0   \n24                 37             216              07                    0   \n23                 37             216              07                    0   \n22                 37             216              07                    0   \n...               ...             ...             ...                  ...   \n758098             37             216              07                    0   \n758099             37             216              07                    0   \n758100             37             216              07                    0   \n758101             37             216              07                    0   \n758102             37             216              07                    0   \n\n        CH 37  CH 38  CH 39  ...  PDU ADV_NONCONN_IND  PDU ADV_SCAN_IND  \\\n0           0      0      1  ...                    0                 1   \n25          1      0      0  ...                    0                 1   \n24          0      0      1  ...                    0                 1   \n23          0      1      0  ...                    0                 1   \n22          1      0      0  ...                    0                 1   \n...       ...    ...    ...  ...                  ...               ...   \n758098      1      0      0  ...                    0                 1   \n758099      0      1      0  ...                    0                 1   \n758100      0      0      1  ...                    0                 1   \n758101      1      0      0  ...                    0                 1   \n758102      0      1      0  ...                    0                 1   \n\n        PDU Other  CT 07  CT 12  CT Other  ST 3  ST 5  ST Other    Label  \n0               0      1      0         0     0     0         0  iDevice  \n25              0      1      0         0     0     0         0  iDevice  \n24              0      1      0         0     0     0         0  iDevice  \n23              0      1      0         0     0     0         0  iDevice  \n22              0      1      0         0     0     0         0  iDevice  \n...           ...    ...    ...       ...   ...   ...       ...      ...  \n758098          0      1      0         0     0     0         0  iDevice  \n758099          0      1      0         0     0     0         0  iDevice  \n758100          0      1      0         0     0     0         0  iDevice  \n758101          0      1      0         0     0     0         0  iDevice  \n758102          0      1      0         0     0     0         0  iDevice  \n\n[693257 rows x 33 columns]",
      "text/html": "<div>\n<style scoped>\n    .dataframe tbody tr th:only-of-type {\n        vertical-align: middle;\n    }\n\n    .dataframe tbody tr th {\n        vertical-align: top;\n    }\n\n    .dataframe thead th {\n        text-align: right;\n    }\n</style>\n<table border=\"1\" class=\"dataframe\">\n  <thead>\n    <tr style=\"text-align: right;\">\n      <th></th>\n      <th>Time</th>\n      <th>Source</th>\n      <th>Length Packet</th>\n      <th>Length Header</th>\n      <th>Length MS Data</th>\n      <th>Continuity Type</th>\n      <th>Length Service Data</th>\n      <th>CH 37</th>\n      <th>CH 38</th>\n      <th>CH 39</th>\n      <th>...</th>\n      <th>PDU ADV_NONCONN_IND</th>\n      <th>PDU ADV_SCAN_IND</th>\n      <th>PDU Other</th>\n      <th>CT 07</th>\n      <th>CT 12</th>\n      <th>CT Other</th>\n      <th>ST 3</th>\n      <th>ST 5</th>\n      <th>ST Other</th>\n      <th>Label</th>\n    </tr>\n  </thead>\n  <tbody>\n    <tr>\n      <th>0</th>\n      <td>2024-04-08 19:26:59.144404888</td>\n      <td>78:ea:09:76:df:94</td>\n      <td>63</td>\n      <td>37</td>\n      <td>216</td>\n      <td>07</td>\n      <td>0</td>\n      <td>0</td>\n      <td>0</td>\n      <td>1</td>\n      <td>...</td>\n      <td>0</td>\n      <td>1</td>\n      <td>0</td>\n      <td>1</td>\n      <td>0</td>\n      <td>0</td>\n      <td>0</td>\n      <td>0</td>\n      <td>0</td>\n      <td>iDevice</td>\n    </tr>\n    <tr>\n      <th>25</th>\n      <td>2024-04-08 19:26:59.144404888</td>\n      <td>78:ea:09:76:df:94</td>\n      <td>63</td>\n      <td>37</td>\n      <td>216</td>\n      <td>07</td>\n      <td>0</td>\n      <td>1</td>\n      <td>0</td>\n      <td>0</td>\n      <td>...</td>\n      <td>0</td>\n      <td>1</td>\n      <td>0</td>\n      <td>1</td>\n      <td>0</td>\n      <td>0</td>\n      <td>0</td>\n      <td>0</td>\n      <td>0</td>\n      <td>iDevice</td>\n    </tr>\n    <tr>\n      <th>24</th>\n      <td>2024-04-08 19:26:59.144404888</td>\n      <td>78:ea:09:76:df:94</td>\n      <td>63</td>\n      <td>37</td>\n      <td>216</td>\n      <td>07</td>\n      <td>0</td>\n      <td>0</td>\n      <td>0</td>\n      <td>1</td>\n      <td>...</td>\n      <td>0</td>\n      <td>1</td>\n      <td>0</td>\n      <td>1</td>\n      <td>0</td>\n      <td>0</td>\n      <td>0</td>\n      <td>0</td>\n      <td>0</td>\n      <td>iDevice</td>\n    </tr>\n    <tr>\n      <th>23</th>\n      <td>2024-04-08 19:26:59.144404888</td>\n      <td>78:ea:09:76:df:94</td>\n      <td>63</td>\n      <td>37</td>\n      <td>216</td>\n      <td>07</td>\n      <td>0</td>\n      <td>0</td>\n      <td>1</td>\n      <td>0</td>\n      <td>...</td>\n      <td>0</td>\n      <td>1</td>\n      <td>0</td>\n      <td>1</td>\n      <td>0</td>\n      <td>0</td>\n      <td>0</td>\n      <td>0</td>\n      <td>0</td>\n      <td>iDevice</td>\n    </tr>\n    <tr>\n      <th>22</th>\n      <td>2024-04-08 19:26:59.144404888</td>\n      <td>78:ea:09:76:df:94</td>\n      <td>63</td>\n      <td>37</td>\n      <td>216</td>\n      <td>07</td>\n      <td>0</td>\n      <td>1</td>\n      <td>0</td>\n      <td>0</td>\n      <td>...</td>\n      <td>0</td>\n      <td>1</td>\n      <td>0</td>\n      <td>1</td>\n      <td>0</td>\n      <td>0</td>\n      <td>0</td>\n      <td>0</td>\n      <td>0</td>\n      <td>iDevice</td>\n    </tr>\n    <tr>\n      <th>...</th>\n      <td>...</td>\n      <td>...</td>\n      <td>...</td>\n      <td>...</td>\n      <td>...</td>\n      <td>...</td>\n      <td>...</td>\n      <td>...</td>\n      <td>...</td>\n      <td>...</td>\n      <td>...</td>\n      <td>...</td>\n      <td>...</td>\n      <td>...</td>\n      <td>...</td>\n      <td>...</td>\n      <td>...</td>\n      <td>...</td>\n      <td>...</td>\n      <td>...</td>\n      <td>...</td>\n    </tr>\n    <tr>\n      <th>758098</th>\n      <td>2024-04-09 07:26:59.177983046</td>\n      <td>59:26:06:5a:44:14</td>\n      <td>63</td>\n      <td>37</td>\n      <td>216</td>\n      <td>07</td>\n      <td>0</td>\n      <td>1</td>\n      <td>0</td>\n      <td>0</td>\n      <td>...</td>\n      <td>0</td>\n      <td>1</td>\n      <td>0</td>\n      <td>1</td>\n      <td>0</td>\n      <td>0</td>\n      <td>0</td>\n      <td>0</td>\n      <td>0</td>\n      <td>iDevice</td>\n    </tr>\n    <tr>\n      <th>758099</th>\n      <td>2024-04-09 07:26:59.178862095</td>\n      <td>59:26:06:5a:44:14</td>\n      <td>63</td>\n      <td>37</td>\n      <td>216</td>\n      <td>07</td>\n      <td>0</td>\n      <td>0</td>\n      <td>1</td>\n      <td>0</td>\n      <td>...</td>\n      <td>0</td>\n      <td>1</td>\n      <td>0</td>\n      <td>1</td>\n      <td>0</td>\n      <td>0</td>\n      <td>0</td>\n      <td>0</td>\n      <td>0</td>\n      <td>iDevice</td>\n    </tr>\n    <tr>\n      <th>758100</th>\n      <td>2024-04-09 07:26:59.359599113</td>\n      <td>59:26:06:5a:44:14</td>\n      <td>63</td>\n      <td>37</td>\n      <td>216</td>\n      <td>07</td>\n      <td>0</td>\n      <td>0</td>\n      <td>0</td>\n      <td>1</td>\n      <td>...</td>\n      <td>0</td>\n      <td>1</td>\n      <td>0</td>\n      <td>1</td>\n      <td>0</td>\n      <td>0</td>\n      <td>0</td>\n      <td>0</td>\n      <td>0</td>\n      <td>iDevice</td>\n    </tr>\n    <tr>\n      <th>758101</th>\n      <td>2024-04-09 07:26:59.360476971</td>\n      <td>59:26:06:5a:44:14</td>\n      <td>63</td>\n      <td>37</td>\n      <td>216</td>\n      <td>07</td>\n      <td>0</td>\n      <td>1</td>\n      <td>0</td>\n      <td>0</td>\n      <td>...</td>\n      <td>0</td>\n      <td>1</td>\n      <td>0</td>\n      <td>1</td>\n      <td>0</td>\n      <td>0</td>\n      <td>0</td>\n      <td>0</td>\n      <td>0</td>\n      <td>iDevice</td>\n    </tr>\n    <tr>\n      <th>758102</th>\n      <td>2024-04-09 07:26:59.361355066</td>\n      <td>59:26:06:5a:44:14</td>\n      <td>63</td>\n      <td>37</td>\n      <td>216</td>\n      <td>07</td>\n      <td>0</td>\n      <td>0</td>\n      <td>1</td>\n      <td>0</td>\n      <td>...</td>\n      <td>0</td>\n      <td>1</td>\n      <td>0</td>\n      <td>1</td>\n      <td>0</td>\n      <td>0</td>\n      <td>0</td>\n      <td>0</td>\n      <td>0</td>\n      <td>iDevice</td>\n    </tr>\n  </tbody>\n</table>\n<p>693257 rows × 33 columns</p>\n</div>"
     },
     "execution_count": 29,
     "metadata": {},
     "output_type": "execute_result"
    }
   ],
   "source": [
    "temp"
   ],
   "metadata": {
    "collapsed": false,
    "ExecuteTime": {
     "end_time": "2024-05-09T01:01:14.619312600Z",
     "start_time": "2024-05-09T01:01:14.374857200Z"
    }
   },
   "id": "436e2a01b0368e3d",
   "execution_count": 29
  },
  {
   "cell_type": "code",
   "outputs": [
    {
     "name": "stdout",
     "output_type": "stream",
     "text": [
      "<class 'pandas.core.frame.DataFrame'>\n",
      "RangeIndex: 32829 entries, 0 to 32828\n",
      "Data columns (total 33 columns):\n",
      " #   Column                                      Non-Null Count  Dtype         \n",
      "---  ------                                      --------------  -----         \n",
      " 0   Time                                        32829 non-null  datetime64[ns]\n",
      " 1   Source                                      32829 non-null  string        \n",
      " 2   Length Packet                               32829 non-null  int64         \n",
      " 3   Length Header                               32829 non-null  int64         \n",
      " 4   Length MS Data                              32829 non-null  int32         \n",
      " 5   Continuity Type                             32829 non-null  string        \n",
      " 6   Length Service Data                         32829 non-null  int32         \n",
      " 7   CH 37                                       32829 non-null  int32         \n",
      " 8   CH 38                                       32829 non-null  int32         \n",
      " 9   CH 39                                       32829 non-null  int32         \n",
      " 10  AD Manufacturer Specific                    32829 non-null  int64         \n",
      " 11  AD Flags                                    32829 non-null  int32         \n",
      " 12  AD Tx Power Level                           32829 non-null  int64         \n",
      " 13  AD Service Data - 16 bit UUID               32829 non-null  int32         \n",
      " 14  AD 16-bit Service Class UUIDs               32829 non-null  int64         \n",
      " 15  AD 16-bit Service Class UUIDs (incomplete)  32829 non-null  int32         \n",
      " 16  AD Other                                    32829 non-null  int64         \n",
      " 17  COMP Apple                                  32829 non-null  int64         \n",
      " 18  COMP Other                                  32829 non-null  int64         \n",
      " 19  UUID Samsung                                32829 non-null  int32         \n",
      " 20  UUID Tile                                   32829 non-null  int64         \n",
      " 21  UUID Other                                  32829 non-null  int64         \n",
      " 22  PDU ADV_IND                                 32829 non-null  int32         \n",
      " 23  PDU ADV_NONCONN_IND                         32829 non-null  int64         \n",
      " 24  PDU ADV_SCAN_IND                            32829 non-null  int64         \n",
      " 25  PDU Other                                   32829 non-null  int64         \n",
      " 26  CT 07                                       32829 non-null  int64         \n",
      " 27  CT 12                                       32829 non-null  int64         \n",
      " 28  CT Other                                    32829 non-null  int64         \n",
      " 29  ST 3                                        32829 non-null  int32         \n",
      " 30  ST 5                                        32829 non-null  int64         \n",
      " 31  ST Other                                    32829 non-null  int64         \n",
      " 32  Label                                       32829 non-null  object        \n",
      "dtypes: datetime64[ns](1), int32(11), int64(18), object(1), string(2)\n",
      "memory usage: 6.9+ MB\n"
     ]
    }
   ],
   "source": [
    "file = r\"SmartTag\\SmartTag_(lost).csv\"\n",
    "data = pd.read_csv(dataPath + file, encoding='cp1252')\n",
    "temp = modelingPipeline.process(data.copy(deep=True), flag=Flag(name='Run', parents=[flag_preProcessing, flag_dummy,\n",
    "                                                                                        flag_label_SmartTag]))\n",
    "temp.info()"
   ],
   "metadata": {
    "collapsed": false,
    "ExecuteTime": {
     "end_time": "2024-05-09T01:01:15.314953600Z",
     "start_time": "2024-05-09T01:01:14.620311900Z"
    }
   },
   "id": "f6befab1d1f91ee6",
   "execution_count": 30
  },
  {
   "cell_type": "code",
   "outputs": [
    {
     "data": {
      "text/plain": "                               Time             Source  Length Packet  \\\n0     2024-04-10 19:47:58.237437963  6d:40:e6:f1:49:01             63   \n1     2024-04-10 19:48:00.213016033  6d:40:e6:f1:49:01             63   \n2     2024-04-10 19:48:02.189117908  6d:40:e6:f1:49:01             63   \n3     2024-04-10 19:48:02.189845085  6d:40:e6:f1:49:01             63   \n4     2024-04-10 19:48:04.165843964  6d:40:e6:f1:49:01             63   \n...                             ...                ...            ...   \n32824 2024-04-11 07:47:51.174439907  58:8d:7e:30:a1:33             63   \n32825 2024-04-11 07:47:51.175894022  58:8d:7e:30:a1:33             63   \n32826 2024-04-11 07:47:53.151892900  58:8d:7e:30:a1:33             63   \n32827 2024-04-11 07:47:53.153347015  58:8d:7e:30:a1:33             63   \n32828 2024-04-11 07:47:55.126425981  58:8d:7e:30:a1:33             63   \n\n       Length Header  Length MS Data Continuity Type  Length Service Data  \\\n0                 37               0            None                  160   \n1                 37               0            None                  160   \n2                 37               0            None                  160   \n3                 37               0            None                  160   \n4                 37               0            None                  160   \n...              ...             ...             ...                  ...   \n32824             37               0            None                  160   \n32825             37               0            None                  160   \n32826             37               0            None                  160   \n32827             37               0            None                  160   \n32828             37               0            None                  160   \n\n       CH 37  CH 38  CH 39  ...  PDU ADV_NONCONN_IND  PDU ADV_SCAN_IND  \\\n0          1      0      0  ...                    0                 0   \n1          0      1      0  ...                    0                 0   \n2          0      0      1  ...                    0                 0   \n3          1      0      0  ...                    0                 0   \n4          0      1      0  ...                    0                 0   \n...      ...    ...    ...  ...                  ...               ...   \n32824      0      1      0  ...                    0                 0   \n32825      0      0      1  ...                    0                 0   \n32826      1      0      0  ...                    0                 0   \n32827      0      1      0  ...                    0                 0   \n32828      0      0      1  ...                    0                 0   \n\n       PDU Other  CT 07  CT 12  CT Other  ST 3  ST 5  ST Other     Label  \n0              0      0      0         0     1     0         0  SmartTag  \n1              0      0      0         0     1     0         0  SmartTag  \n2              0      0      0         0     1     0         0  SmartTag  \n3              0      0      0         0     1     0         0  SmartTag  \n4              0      0      0         0     1     0         0  SmartTag  \n...          ...    ...    ...       ...   ...   ...       ...       ...  \n32824          0      0      0         0     1     0         0  SmartTag  \n32825          0      0      0         0     1     0         0  SmartTag  \n32826          0      0      0         0     1     0         0  SmartTag  \n32827          0      0      0         0     1     0         0  SmartTag  \n32828          0      0      0         0     1     0         0  SmartTag  \n\n[32829 rows x 33 columns]",
      "text/html": "<div>\n<style scoped>\n    .dataframe tbody tr th:only-of-type {\n        vertical-align: middle;\n    }\n\n    .dataframe tbody tr th {\n        vertical-align: top;\n    }\n\n    .dataframe thead th {\n        text-align: right;\n    }\n</style>\n<table border=\"1\" class=\"dataframe\">\n  <thead>\n    <tr style=\"text-align: right;\">\n      <th></th>\n      <th>Time</th>\n      <th>Source</th>\n      <th>Length Packet</th>\n      <th>Length Header</th>\n      <th>Length MS Data</th>\n      <th>Continuity Type</th>\n      <th>Length Service Data</th>\n      <th>CH 37</th>\n      <th>CH 38</th>\n      <th>CH 39</th>\n      <th>...</th>\n      <th>PDU ADV_NONCONN_IND</th>\n      <th>PDU ADV_SCAN_IND</th>\n      <th>PDU Other</th>\n      <th>CT 07</th>\n      <th>CT 12</th>\n      <th>CT Other</th>\n      <th>ST 3</th>\n      <th>ST 5</th>\n      <th>ST Other</th>\n      <th>Label</th>\n    </tr>\n  </thead>\n  <tbody>\n    <tr>\n      <th>0</th>\n      <td>2024-04-10 19:47:58.237437963</td>\n      <td>6d:40:e6:f1:49:01</td>\n      <td>63</td>\n      <td>37</td>\n      <td>0</td>\n      <td>None</td>\n      <td>160</td>\n      <td>1</td>\n      <td>0</td>\n      <td>0</td>\n      <td>...</td>\n      <td>0</td>\n      <td>0</td>\n      <td>0</td>\n      <td>0</td>\n      <td>0</td>\n      <td>0</td>\n      <td>1</td>\n      <td>0</td>\n      <td>0</td>\n      <td>SmartTag</td>\n    </tr>\n    <tr>\n      <th>1</th>\n      <td>2024-04-10 19:48:00.213016033</td>\n      <td>6d:40:e6:f1:49:01</td>\n      <td>63</td>\n      <td>37</td>\n      <td>0</td>\n      <td>None</td>\n      <td>160</td>\n      <td>0</td>\n      <td>1</td>\n      <td>0</td>\n      <td>...</td>\n      <td>0</td>\n      <td>0</td>\n      <td>0</td>\n      <td>0</td>\n      <td>0</td>\n      <td>0</td>\n      <td>1</td>\n      <td>0</td>\n      <td>0</td>\n      <td>SmartTag</td>\n    </tr>\n    <tr>\n      <th>2</th>\n      <td>2024-04-10 19:48:02.189117908</td>\n      <td>6d:40:e6:f1:49:01</td>\n      <td>63</td>\n      <td>37</td>\n      <td>0</td>\n      <td>None</td>\n      <td>160</td>\n      <td>0</td>\n      <td>0</td>\n      <td>1</td>\n      <td>...</td>\n      <td>0</td>\n      <td>0</td>\n      <td>0</td>\n      <td>0</td>\n      <td>0</td>\n      <td>0</td>\n      <td>1</td>\n      <td>0</td>\n      <td>0</td>\n      <td>SmartTag</td>\n    </tr>\n    <tr>\n      <th>3</th>\n      <td>2024-04-10 19:48:02.189845085</td>\n      <td>6d:40:e6:f1:49:01</td>\n      <td>63</td>\n      <td>37</td>\n      <td>0</td>\n      <td>None</td>\n      <td>160</td>\n      <td>1</td>\n      <td>0</td>\n      <td>0</td>\n      <td>...</td>\n      <td>0</td>\n      <td>0</td>\n      <td>0</td>\n      <td>0</td>\n      <td>0</td>\n      <td>0</td>\n      <td>1</td>\n      <td>0</td>\n      <td>0</td>\n      <td>SmartTag</td>\n    </tr>\n    <tr>\n      <th>4</th>\n      <td>2024-04-10 19:48:04.165843964</td>\n      <td>6d:40:e6:f1:49:01</td>\n      <td>63</td>\n      <td>37</td>\n      <td>0</td>\n      <td>None</td>\n      <td>160</td>\n      <td>0</td>\n      <td>1</td>\n      <td>0</td>\n      <td>...</td>\n      <td>0</td>\n      <td>0</td>\n      <td>0</td>\n      <td>0</td>\n      <td>0</td>\n      <td>0</td>\n      <td>1</td>\n      <td>0</td>\n      <td>0</td>\n      <td>SmartTag</td>\n    </tr>\n    <tr>\n      <th>...</th>\n      <td>...</td>\n      <td>...</td>\n      <td>...</td>\n      <td>...</td>\n      <td>...</td>\n      <td>...</td>\n      <td>...</td>\n      <td>...</td>\n      <td>...</td>\n      <td>...</td>\n      <td>...</td>\n      <td>...</td>\n      <td>...</td>\n      <td>...</td>\n      <td>...</td>\n      <td>...</td>\n      <td>...</td>\n      <td>...</td>\n      <td>...</td>\n      <td>...</td>\n      <td>...</td>\n    </tr>\n    <tr>\n      <th>32824</th>\n      <td>2024-04-11 07:47:51.174439907</td>\n      <td>58:8d:7e:30:a1:33</td>\n      <td>63</td>\n      <td>37</td>\n      <td>0</td>\n      <td>None</td>\n      <td>160</td>\n      <td>0</td>\n      <td>1</td>\n      <td>0</td>\n      <td>...</td>\n      <td>0</td>\n      <td>0</td>\n      <td>0</td>\n      <td>0</td>\n      <td>0</td>\n      <td>0</td>\n      <td>1</td>\n      <td>0</td>\n      <td>0</td>\n      <td>SmartTag</td>\n    </tr>\n    <tr>\n      <th>32825</th>\n      <td>2024-04-11 07:47:51.175894022</td>\n      <td>58:8d:7e:30:a1:33</td>\n      <td>63</td>\n      <td>37</td>\n      <td>0</td>\n      <td>None</td>\n      <td>160</td>\n      <td>0</td>\n      <td>0</td>\n      <td>1</td>\n      <td>...</td>\n      <td>0</td>\n      <td>0</td>\n      <td>0</td>\n      <td>0</td>\n      <td>0</td>\n      <td>0</td>\n      <td>1</td>\n      <td>0</td>\n      <td>0</td>\n      <td>SmartTag</td>\n    </tr>\n    <tr>\n      <th>32826</th>\n      <td>2024-04-11 07:47:53.151892900</td>\n      <td>58:8d:7e:30:a1:33</td>\n      <td>63</td>\n      <td>37</td>\n      <td>0</td>\n      <td>None</td>\n      <td>160</td>\n      <td>1</td>\n      <td>0</td>\n      <td>0</td>\n      <td>...</td>\n      <td>0</td>\n      <td>0</td>\n      <td>0</td>\n      <td>0</td>\n      <td>0</td>\n      <td>0</td>\n      <td>1</td>\n      <td>0</td>\n      <td>0</td>\n      <td>SmartTag</td>\n    </tr>\n    <tr>\n      <th>32827</th>\n      <td>2024-04-11 07:47:53.153347015</td>\n      <td>58:8d:7e:30:a1:33</td>\n      <td>63</td>\n      <td>37</td>\n      <td>0</td>\n      <td>None</td>\n      <td>160</td>\n      <td>0</td>\n      <td>1</td>\n      <td>0</td>\n      <td>...</td>\n      <td>0</td>\n      <td>0</td>\n      <td>0</td>\n      <td>0</td>\n      <td>0</td>\n      <td>0</td>\n      <td>1</td>\n      <td>0</td>\n      <td>0</td>\n      <td>SmartTag</td>\n    </tr>\n    <tr>\n      <th>32828</th>\n      <td>2024-04-11 07:47:55.126425981</td>\n      <td>58:8d:7e:30:a1:33</td>\n      <td>63</td>\n      <td>37</td>\n      <td>0</td>\n      <td>None</td>\n      <td>160</td>\n      <td>0</td>\n      <td>0</td>\n      <td>1</td>\n      <td>...</td>\n      <td>0</td>\n      <td>0</td>\n      <td>0</td>\n      <td>0</td>\n      <td>0</td>\n      <td>0</td>\n      <td>1</td>\n      <td>0</td>\n      <td>0</td>\n      <td>SmartTag</td>\n    </tr>\n  </tbody>\n</table>\n<p>32829 rows × 33 columns</p>\n</div>"
     },
     "execution_count": 31,
     "metadata": {},
     "output_type": "execute_result"
    }
   ],
   "source": [
    "temp"
   ],
   "metadata": {
    "collapsed": false,
    "ExecuteTime": {
     "end_time": "2024-05-09T01:01:15.334757700Z",
     "start_time": "2024-05-09T01:01:15.314953600Z"
    }
   },
   "id": "e1734f3b3795ff0c",
   "execution_count": 31
  },
  {
   "cell_type": "code",
   "outputs": [],
   "source": [],
   "metadata": {
    "collapsed": false,
    "ExecuteTime": {
     "end_time": "2024-05-09T01:01:15.337327200Z",
     "start_time": "2024-05-09T01:01:15.334757700Z"
    }
   },
   "id": "93eca426e1ba6f7a",
   "execution_count": 31
  }
 ],
 "metadata": {
  "kernelspec": {
   "display_name": "Python 3 (ipykernel)",
   "language": "python",
   "name": "python3"
  },
  "language_info": {
   "codemirror_mode": {
    "name": "ipython",
    "version": 3
   },
   "file_extension": ".py",
   "mimetype": "text/x-python",
   "name": "python",
   "nbconvert_exporter": "python",
   "pygments_lexer": "ipython3",
   "version": "3.11.5"
  }
 },
 "nbformat": 4,
 "nbformat_minor": 5
}
